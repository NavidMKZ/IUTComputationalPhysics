{
 "cells": [
  {
   "cell_type": "markdown",
   "id": "0262daf9-e5c4-48a4-b02f-833a2fadaafe",
   "metadata": {},
   "source": [
    "# نکات مهم\n",
    "در این بخش، ما برخی از ابزارهای ضروری را بررسی خواهیم کرد که به طور گسترده در توسعه نرم‌افزار و علوم داده مورد استفاده قرار می‌گیرند. این ابزارها شامل موارد زیر هستند:\n",
    "<p dir=\"rtl\">\n",
    "  <ul dir=\"rtl\">\n",
    "  <li> Bash: \n",
    "یک  (Shell) یونیکس و زبان دستوری که قابلیت‌های قدرتمند پردازش متن و اسکریپت‌نویسی را ارائه می‌دهد Bash برای خودکارسازی وظایف تکراری، مدیریت عملیات سیستم و پردازش کارآمد متن ضروری است.\n",
    "    </li>\n",
    "<li>\n",
    "    Git: یک سیستم کنترل نسخه توزیع‌شده که به شما کمک می‌کند تغییرات کد خود را پیگیری کرده و با دیگران همکاری کنید. Git برای حفظ تاریخچه پروژه، همکاری بین اعضای تیم و مدیریت نسخه‌های مختلف کد بسیار حیاتی است.\n",
    "</li>\n",
    "<li>\n",
    "    Python: یک زبان برنامه‌نویسی همه‌منظوره که به دلیل سادگی و خوانایی بالا محبوب است و به طور گسترده در تحلیل داده، یادگیری ماشین و توسعه وب استفاده می‌شود. کتابخانه‌ها و فریمورک‌های گسترده‌ی Python آن را به گزینه‌ای ایده‌آل برای کاربردهای مختلف، از اسکریپت‌نویسی تا ساخت برنامه‌های پیچیده، تبدیل کرده‌اند.\n",
    "    </li>\n",
    "\n",
    "با تسلط بر این ابزارها، شما قادر خواهید بود جریان کاری خود را بهینه کنید، پروژه‌های خود را به طور مؤثرتری مدیریت کرده و بهره‌وری خود را افزایش دهید. این بخش فرض می‌کند که شما درک اولیه‌ای از مفاهیم برنامه‌نویسی داشته و با استفاده از خط فرمان آشنا هستید.\n",
    "\n",
    "</ul>\n",
    "\n",
    "# بَش\n",
    "دستورات پایه\n",
    "<p dir=\"rtl\">\n",
    "  <code>ls</code> : محتوای پوشه را فهرست می‌کند. \n",
    "  \n",
    "\n",
    " -  مثال: <code>ls -l</code> فایل‌ها را در قالب طولانی نمایش می‌دهد.\n",
    " - مثال:   <code>ls -a</code> تمام فایل‌ها، از جمله فایل‌های مخفی را نمایش می‌دهد.\n"
   ]
  },
  {
   "cell_type": "code",
   "execution_count": null,
   "id": "d2e0111d-ea49-4b57-b3bf-10e23c8c473f",
   "metadata": {},
   "outputs": [],
   "source": [
    "ls -l\n",
    "ls -a"
   ]
  },
  {
   "cell_type": "markdown",
   "id": "f98c9143-5fa1-4a88-b6bc-767a1d73b0b6",
   "metadata": {},
   "source": [
    "<code>cd</code>: تغییر پوشه جاری.  \n",
    "  مثال: <code>cd /path/to/directory</code> به پوشه مشخص‌شده تغییر می‌کند."
   ]
  },
  {
   "cell_type": "code",
   "execution_count": null,
   "id": "20b9e91a-28bf-474a-9928-e8ee18ddc5c5",
   "metadata": {},
   "outputs": [],
   "source": [
    "cd /path/to/directory"
   ]
  },
  {
   "cell_type": "markdown",
   "id": "3c869948-9e90-4347-b7bb-39dea95ff1c8",
   "metadata": {},
   "source": [
    "<code>pw</code>: آدرس پوشه جاری را نمایش می‌دهد"
   ]
  },
  {
   "cell_type": "code",
   "execution_count": null,
   "id": "965ad00d-ad87-40e9-a412-ed8f9d23f5bd",
   "metadata": {},
   "outputs": [],
   "source": [
    "pw"
   ]
  },
  {
   "cell_type": "markdown",
   "id": "abafd886-888e-4393-8099-5f89d901b91e",
   "metadata": {},
   "source": [
    "  <code>cp</code>: کپی کردن فایل‌ها و پوشه‌ها.  \n",
    "  مثال: <code>cp source.txt destination.txt</code> فایل مبدا را به فایل مقصد کپی می‌کند."
   ]
  },
  {
   "cell_type": "code",
   "execution_count": null,
   "id": "6755a6b8-f288-4eaf-838a-10e58a758377",
   "metadata": {},
   "outputs": [],
   "source": [
    "cp source.txt destination.txt"
   ]
  },
  {
   "cell_type": "markdown",
   "id": "399f9e9d-3263-41fc-ae56-d8a6581403ec",
   "metadata": {},
   "source": [
    "<code>mv</code>: جابجا کردن یا تغییر نام فایل‌ها و دایرکتوری‌ها.  \n",
    "مثال: <code>mv oldname.txt newname.txt</code> فایل را تغییر نام می‌دهد."
   ]
  },
  {
   "cell_type": "code",
   "execution_count": null,
   "id": "2bb55986-7fc3-4314-9a24-7fcf2d3a758e",
   "metadata": {},
   "outputs": [],
   "source": [
    "mv oldname.txt newname.txt"
   ]
  },
  {
   "cell_type": "markdown",
   "id": "2274a09a-f0f1-4120-802e-418219116ce9",
   "metadata": {},
   "source": [
    "  <code>rm</code>: پاک کردن فایل یا پوشه مشخص شده\n",
    "\n",
    "مثال: <code>rm file.txt</code> فایل مشخص شده را پاک می‌کند.\n",
    "\n",
    "مثال: <code>rm -r directory</code> پوشه مشخص شده را پاک می‌کند.\n"
   ]
  },
  {
   "cell_type": "code",
   "execution_count": null,
   "id": "aaa7d591-8506-4f90-85b4-897b93813f6f",
   "metadata": {},
   "outputs": [],
   "source": [
    "rm file.txt\n",
    "rm -r direcrory"
   ]
  },
  {
   "cell_type": "markdown",
   "id": "45230053-bceb-483e-a8b0-cb54f856db7d",
   "metadata": {},
   "source": [
    "<code>echo</code>: نمایش یک خط متن.  \n",
    " مثال: <code>echo \"Hello, World!\"</code> متن را در ترمینال چاپ می‌کند."
   ]
  },
  {
   "cell_type": "code",
   "execution_count": null,
   "id": "a1def1c0-6aa5-4201-b9ec-1a820ffa6a23",
   "metadata": {},
   "outputs": [],
   "source": [
    "echo \"Hello, World!\""
   ]
  },
  {
   "cell_type": "markdown",
   "id": "86f4a96a-98fb-425f-845e-62649eda4e7e",
   "metadata": {},
   "source": [
    "<code>cat</code>: برای ترکیب و نمایش محتوای فایل.  \n",
    "مثال: `<code>cat file.txt</code> محتوای فایل را نمایش می‌دهد.  "
   ]
  },
  {
   "cell_type": "code",
   "execution_count": null,
   "id": "b3bf4395-7933-42d4-806b-e95f64cdcefa",
   "metadata": {},
   "outputs": [],
   "source": [
    "cat file.txt"
   ]
  },
  {
   "cell_type": "markdown",
   "id": "dcc82631-1e01-46b0-8226-ca92607c8bc9",
   "metadata": {},
   "source": [
    "<code>mkdir new_directory</code>: برای ترکیب و نمایش محتوای فایل.  \n",
    "  مثال: <code>mkdir mydir</code> پوشه‌ای جدید با نام mydir ایجاد می‌کند. "
   ]
  },
  {
   "cell_type": "code",
   "execution_count": null,
   "id": "08ff4531-4535-40e5-ab09-bc147cc6db66",
   "metadata": {},
   "outputs": [],
   "source": [
    "mkdir mydir"
   ]
  },
  {
   "cell_type": "markdown",
   "id": "8f9d71f8-d1ea-46bd-8736-d650e292edc9",
   "metadata": {},
   "source": [
    "<code>mkdir -p /path/to/new_directory</code>: برای ایجاد یک پوشه جدید و هر پوشه والد مورد نیاز.  \n",
    " \n",
    "  مثال: <code>mkdir -p /path/to/new_directory</code>` پوشه مشخص‌شده را به همراه هر پوشه والد گم‌شده ایجاد می‌کند.  "
   ]
  },
  {
   "cell_type": "code",
   "execution_count": null,
   "id": "d4e5bc65-3739-4641-99f2-3ef9178e5755",
   "metadata": {},
   "outputs": [],
   "source": [
    "mkdir -p /path/to/new_directory"
   ]
  },
  {
   "cell_type": "markdown",
   "id": "52405fce-fca8-4d2c-8b2b-5ecbe705283f",
   "metadata": {},
   "source": [
    "<code>touch newfile.txt</code>: برای ایجاد یک فایل خالی جدید یا به‌روزرسانی زمان‌نگاری یک فایل موجود.  \n",
    "  \n",
    "  مثال: <code>touch newfile.txt </code>یک فایل خالی با نام مشخص شده ایجاد می‌کند.  "
   ]
  },
  {
   "cell_type": "code",
   "execution_count": null,
   "id": "b8c3ccda-881d-4287-90b7-4b068259ad12",
   "metadata": {},
   "outputs": [],
   "source": [
    "touch newfile.txt"
   ]
  },
  {
   "cell_type": "markdown",
   "id": "b871e957-54bd-4cf8-a0b0-12093878a59c",
   "metadata": {},
   "source": [
    "<code>touch file1.txt file2.txt file3.txt</code>: شما می‌توانید از دستور <code>touch</code> همراه با سایر دستورات برای ایجاد چندین فایل به‌طور هم‌زمان یا ایجاد فایل‌ها در دایرکتوری‌های خاص استفاده کنید.  \n",
    " \n",
    "  مثال: <code>touch file1.txt file2.txt file3.txt</code> چندین فایل جدید ایجاد می‌کند.  "
   ]
  },
  {
   "cell_type": "code",
   "execution_count": null,
   "id": "8fac9fc8-d117-4736-b046-19049266bef3",
   "metadata": {},
   "outputs": [],
   "source": [
    "touch file1.txt file2.txt file3.txt"
   ]
  },
  {
   "cell_type": "markdown",
   "id": "ba457648-717d-483a-ba67-43239a2d387e",
   "metadata": {},
   "source": [
    "مثال: <code>touch /path/to/directory/newfile.txt</code>: ایجاد یک فایل در یک دایرکتوری خاص."
   ]
  },
  {
   "cell_type": "code",
   "execution_count": null,
   "id": "f8bb14f4-0a5d-4cb1-be88-4ce98c698362",
   "metadata": {},
   "outputs": [],
   "source": [
    "touch /path/to/directory/newfile.txt"
   ]
  },
  {
   "cell_type": "markdown",
   "id": "147cab88-2dd5-4b36-917b-3649d8c38f29",
   "metadata": {},
   "source": [
    "# کد نویسی در بَش\n",
    "\n",
    "<p dir=\"rtl\"> \n",
    "   یک اسکریپت Bash فقط یک فایل متنی است که شامل مجموعه‌ای از دستورات است و به شما این امکان را می‌دهد که کارهای تکراری را با نوشتن اسکریپت‌ها خودکار کنید.\n",
    " \n",
    "  مثال:   "
   ]
  },
  {
   "cell_type": "code",
   "execution_count": null,
   "id": "a911ca21-d629-48bb-9cdb-8d5beb62372c",
   "metadata": {},
   "outputs": [],
   "source": [
    "#!/bin/bash\n",
    "echo \"Hello, World!"
   ]
  },
  {
   "cell_type": "markdown",
   "id": "ce42d45d-063e-4220-a7ea-c2a8736c1c75",
   "metadata": {},
   "source": [
    "  برای اجرای اسکریپت، آن را در یک فایل ذخیره کنید (مثلاً <code>hello.sh</code>)، آن را اجرایی کنید (<code>chmod +x hello.sh</code>) و سپس آن را اجرا کنید (<code>./hello.sh</code>).  \n",
    "  مثال:  "
   ]
  },
  {
   "cell_type": "code",
   "execution_count": null,
   "id": "8df7cdae-d75e-4e0f-ae87-eef6c0307d70",
   "metadata": {},
   "outputs": [],
   "source": [
    "chmod +x hello.sh\n",
    "./hello.sh"
   ]
  },
  {
   "cell_type": "markdown",
   "id": "a8057224-a69c-45d3-bba4-4772d6987a1e",
   "metadata": {},
   "source": [
    "  # پردازش متن  \n",
    "  بش از دستورات قدرتمندی برای پردازش متن مانند <code>grep</code>، <code>awk</code> و <code>sed</code> برخوردار است. این ابزارها به شما این امکان را می‌دهند که داده‌های متنی را به‌طور کارآمد جستجو، فیلتر و تغییر دهید. در اینجا چند مثال آورده شده است:\n",
    " \n",
    "<p dir=\"rtl\">\n",
    "<code>grep</code>: جستجو برای الگوها در فایل‌ها.  \n",
    " \n",
    "  مثال: <code>grep 'pattern' file.txt</code> برای جستجوی واژه ‘pattern’ در فایل استفاده می‌شود.  "
   ]
  },
  {
   "cell_type": "code",
   "execution_count": null,
   "id": "ff375937-b8e6-465a-bb9b-5042aa8a9ead",
   "metadata": {},
   "outputs": [],
   "source": [
    "grep 'pattern' file.txt"
   ]
  },
  {
   "cell_type": "markdown",
   "id": "a76c460f-e296-42e5-bc26-a259d3892876",
   "metadata": {},
   "source": [
    "  <code>awk</code>: یک زبان برنامه‌نویسی برای پردازش متن.  \n",
    " \n",
    "  مثال: <code>awk '{print $1}' file.txt</code> ستون اول هر خط را از فایل چاپ می‌کند.  "
   ]
  },
  {
   "cell_type": "code",
   "execution_count": null,
   "id": "42ff2100-3893-400e-aa90-a30e6d95e631",
   "metadata": {},
   "outputs": [],
   "source": [
    "awk '{print $1}' file.tx"
   ]
  },
  {
   "cell_type": "markdown",
   "id": "4fd2152b-618a-42a1-b0e9-6c88190acc26",
   "metadata": {},
   "source": [
    "  <code>sed</code>: ویرایشگر جریانی برای فیلتر کردن و تبدیل متن.  \n",
    "  \n",
    "  مثال: <code>sed 's/old/new/g' file.txt</code> کلمه \"old\" را با \"new\" در فایل جایگزین می‌کند.  "
   ]
  },
  {
   "cell_type": "code",
   "execution_count": null,
   "id": "b9dfb401-b910-428c-9a96-964699433f5f",
   "metadata": {},
   "outputs": [],
   "source": [
    "sed 's/old/new/g' file.txt"
   ]
  },
  {
   "cell_type": "markdown",
   "id": "fb16fafc-dd7f-46c3-840a-a76f7490734e",
   "metadata": {},
   "source": [
    "#  Wildcards استفاده از \n",
    "<p dir=\"rtl\">\n",
    "  <code>*</code>: برای تطبیق با هر تعداد کاراکتر (شامل هیچ کاراکتری).  \n",
    " \n",
    "  مثال: <code>*.txt</code> تمامی فایل‌های با پسوند \".txt\" را پیدا می‌کند.  "
   ]
  },
  {
   "cell_type": "code",
   "execution_count": null,
   "id": "2f577de1-c3d8-4e08-b706-ef4c32622456",
   "metadata": {},
   "outputs": [],
   "source": [
    "ls *.txt"
   ]
  },
  {
   "cell_type": "markdown",
   "id": "7304196d-e6df-4469-a3c6-eb3e7986beb2",
   "metadata": {},
   "source": [
    " <code>?</code>: برای تطبیق با یک کاراکتر تنها.  \n",
    " \n",
    "  مثال: <code>ls file?.txt</code> فایل‌هایی مانند file1.txt، file2.txt و غیره را پیدا می‌کند.  "
   ]
  },
  {
   "cell_type": "code",
   "execution_count": null,
   "id": "b5c0efef-c04d-4534-bce8-c71663912f57",
   "metadata": {},
   "outputs": [],
   "source": [
    "ls file?.txt"
   ]
  },
  {
   "cell_type": "markdown",
   "id": "86b97dcf-b8e4-4e0b-884d-1a1a19c3c0af",
   "metadata": {},
   "source": [
    "  <code>[]</code>: برای تطبیق با هر یک از کاراکترهای داخل براکت‌ها.  \n",
    "  \n",
    "  مثال: <code>ls file[12].txt</code> فایل‌هایی مانند file1.txt و file2.txt را پیدا می‌کند.  "
   ]
  },
  {
   "cell_type": "code",
   "execution_count": null,
   "id": "a3c26cc6-46d6-4923-b7be-2a965c1f1a5c",
   "metadata": {},
   "outputs": [],
   "source": [
    "ls file[12].txt"
   ]
  },
  {
   "cell_type": "markdown",
   "id": "20549e5e-c59b-45d8-bd58-f78f1ba16908",
   "metadata": {},
   "source": [
    "  <strong>نکات و ترفندها برای استفاده پایه از ترمینال</strong>\n",
    "  <br>\n",
    "  در اینجا چند نکته و ترفند برای بهبود استفاده شما از ترمینال آورده شده است:\n",
    "  <ul>\n",
    "    <li><strong>استفاده از Tab</strong> برای تکمیل خودکار دستورات و نام فایل‌ها.</li>\n",
    "    <li><strong>استفاده از Ctrl + R</strong> برای جستجو در تاریخچه دستورات.</li>\n",
    "    <li><strong>استفاده از Ctrl + C</strong> برای لغو دستور جاری.</li>\n",
    "    <li><strong>استفاده از Ctrl + L</strong> برای پاک کردن صفحه ترمینال.</li>\n",
    "    <li><strong>استفاده از !!</strong> برای تکرار دستور آخر.</li>\n",
    "    <li><strong>استفاده از !&lt;command&gt;</strong> برای تکرار آخرین وقوع یک دستور خاص.  \n",
    "    مثال: <code>!ls</code> آخرین دستور <code>ls</code> را تکرار می‌کند.</li>\n",
    "  </ul>\n",
    "</p>\n"
   ]
  },
  {
   "cell_type": "markdown",
   "id": "d73647c3-c141-4a78-b720-9144cf22a1d7",
   "metadata": {},
   "source": [
    "# پردازش فایل و تنظیمات مالکیت\n",
    "<p dir=\"rtl\">\n",
    "      <code>chmod</code>: تغییر مجوزهای فایل.\n",
    "\n",
    "  مثال: <code>chmod 755 file.txt</code> مجوزهای فایل را به صورت خواندن، نوشتن و اجرا برای مالک و خواندن و اجرا برای سایرین تنظیم می‌کند."
   ]
  },
  {
   "cell_type": "code",
   "execution_count": null,
   "id": "4186da6c-6624-4220-a3ac-c3a6efea55f9",
   "metadata": {},
   "outputs": [],
   "source": [
    "chmod 755 file.txt"
   ]
  },
  {
   "cell_type": "markdown",
   "id": "8c15ba06-679c-46c0-aa1b-091fa50701f3",
   "metadata": {},
   "source": [
    "<code>chown</code>: تغییر مالکیت فایل.\n",
    "مثال: <code>chown user:group file.txt</code> مالک و گروه فایل را تغییر می‌دهد.\n"
   ]
  },
  {
   "cell_type": "code",
   "execution_count": null,
   "id": "49776634-6250-40e8-b880-ad4c4df2ed38",
   "metadata": {},
   "outputs": [],
   "source": [
    "chown user:group file.txt"
   ]
  },
  {
   "cell_type": "markdown",
   "id": "5c5c7b23-87ae-401e-809f-0ca7724a5cf8",
   "metadata": {},
   "source": [
    "# مشاهده و اجرای پردازش‌ها\n",
    "  <code>ps</code>: نمایش اطلاعات مربوط به فرآیندهای در حال اجرا.\n",
    "\n",
    " \n",
    "  مثال: <code>ps aux</code> اطلاعات دقیق در مورد تمامی فرآیندهای در حال اجرا را نمایش می‌دهد.\n",
    "\n"
   ]
  },
  {
   "cell_type": "code",
   "execution_count": null,
   "id": "d0525aae-2f0c-4129-86da-8ff89ddf0ebd",
   "metadata": {},
   "outputs": [],
   "source": [
    "ps aux"
   ]
  },
  {
   "cell_type": "markdown",
   "id": "0b0bf03e-e4fc-4e0c-9592-7698835742f8",
   "metadata": {},
   "source": [
    "  <code>top</code>: نمایش اطلاعات بلادرنگ درباره فرآیندهای در حال اجرا.\n",
    "  <br>\n",
    " \n",
    "  مثال: <code>top</code> و <code>htop</code> یک نمای دینامیک از فرآیندهای سیستم را نمایش می‌دهند.\n",
    "\n"
   ]
  },
  {
   "cell_type": "code",
   "execution_count": null,
   "id": "0ec38284-ee76-45a2-95df-a268e28f2827",
   "metadata": {},
   "outputs": [],
   "source": [
    "top"
   ]
  },
  {
   "cell_type": "markdown",
   "id": "2de8c346-a192-4f04-a819-92ddac2ce5f1",
   "metadata": {},
   "source": [
    "یا"
   ]
  },
  {
   "cell_type": "code",
   "execution_count": null,
   "id": "d07a3c70-fbe4-4cfa-ada3-634220ed0696",
   "metadata": {},
   "outputs": [],
   "source": [
    "htop"
   ]
  },
  {
   "cell_type": "markdown",
   "id": "9a6b7ccb-393a-4813-b20c-cb54c4044112",
   "metadata": {},
   "source": [
    "# ساختن دستورات مستعار\n",
    "  <code>alias</code>: به شما این امکان را می‌دهد که برای دستورات پرکاربرد خود میانبر ایجاد کنید.  \n",
    "  مثال: ایجاد یک میانبر برای دستور <code>ls -la</code>:  "
   ]
  },
  {
   "cell_type": "code",
   "execution_count": null,
   "id": "70446e75-b317-4775-90e3-7657a8488e49",
   "metadata": {},
   "outputs": [],
   "source": [
    "alias ll='ls -la'"
   ]
  },
  {
   "cell_type": "markdown",
   "id": "678eaeec-4926-4b01-8d98-465d602d408e",
   "metadata": {},
   "source": [
    "  این دستور میانبری با نام  <code>ll</code>\n",
    " \n",
    "  برای نمایش محتوای پوشه با جزئیات، ایجاد می‌کند\n",
    "  \n",
    "  <code>alias</code>: برای دائمی کردن میانبر، باید آن را به فایل <code>.bashrc</code> یا <code>.bash_profile</code> خود اضافه کنید:\n",
    "\n",
    "  مثال:\n",
    "  "
   ]
  },
  {
   "cell_type": "code",
   "execution_count": null,
   "id": "0f2143df-f63e-4b73-8955-ad8d8c94e23c",
   "metadata": {},
   "outputs": [],
   "source": [
    "echo \"alias ll='ls -la'\" >> ~/.bashrc"
   ]
  },
  {
   "cell_type": "markdown",
   "id": "5ef78c9e-5a0f-4480-9e6f-29d83b3ececb",
   "metadata": {},
   "source": [
    "<p dir=\"rtl\">\n",
    "  <code>echo \"alias ll='ls -la'\" >> ~/.bashrc</code>  \n",
    "  این دستور میانبر را به فایل <code>.bashrc</code> اضافه می‌کند.\n",
    "  <br>\n",
    " \n",
    "  سپس برای بارگذاری فایل جدید:"
   ]
  },
  {
   "cell_type": "code",
   "execution_count": null,
   "id": "916de740-49e2-4b0c-bab6-e7355ef83937",
   "metadata": {},
   "outputs": [],
   "source": [
    "source ~/.bashrc"
   ]
  },
  {
   "cell_type": "markdown",
   "id": "5abb8fee-8b72-4e89-ba1d-3bab4cf39239",
   "metadata": {},
   "source": [
    "  این دستور فایل <code>.bashrc</code> را دوباره بارگذاری می‌کند تا تغییرات اعمال شوند.\n",
    "</p>\n",
    "\n",
    "<p dir=\"rtl\">\n",
    "  <strong>مستندات بیشتر</strong>\n",
    "  <br>\n",
    "  برای اطلاعات بیشتر و استفاده پیشرفته، می‌توانید به منابع و مستندات رسمی Bash مراجعه کنید:\n",
    "  <ul>\n",
    "    <li><a href=\"https://www.gnu.org/software/bash/manual/\">مستندات رسمی Bash</a></li>\n",
    "    <li><a href=\"https://github.com/bminor/bash\">کد منبع Bash</a></li>\n",
    "    <li><a href=\"https://tldp.org/LDP/abs/html/\">راهنمای نوشتن اسکریپت در Bash</a></li>\n",
    "  </ul>\n",
    "  <br>\n",
    "<p dir=\"rtl\">\n",
    "  <code>man</code>:  صفحات راهنمای دستورات  را نمایش می‌دهد.\n",
    "  \n",
    "  \n",
    "  <br>\n",
    "  <p dir=\"rtl\">\n",
    "  مثال:\n",
    "   "
   ]
  },
  {
   "cell_type": "code",
   "execution_count": null,
   "id": "31d181ba-4e93-4b4a-848f-b364235afd24",
   "metadata": {},
   "outputs": [],
   "source": [
    "man ls"
   ]
  },
  {
   "cell_type": "markdown",
   "id": "7521ad4d-9cc5-4f27-b724-d3e59c0b909a",
   "metadata": {},
   "source": [
    "  با تسلط بر Bash، می‌توانید به‌طور قابل‌توجهی بهره‌وری خود را افزایش داده و جریان کاری خود را ساده‌سازی کنید."
   ]
  },
  {
   "cell_type": "markdown",
   "id": "00af2e3c-8928-4472-accc-191876d55ed0",
   "metadata": {},
   "source": [
    "# گیت\n",
    "\n",
    "<code>Git</code>: یک سیستم کنترل نسخه توزیع‌شده است که به شما کمک می‌کند تغییرات کد خود را پیگیری کرده و با دیگران همکاری کنید.  \n",
    "این ابزار برای حفظ تاریخچه پروژه، امکان همکاری بین اعضای تیم و مدیریت نسخه‌های مختلف کد بسیار مهم است\n",
    "\n",
    "دستورات پایه‌ای Git که باید بدانید:\n",
    "\n",
    "\n",
    "\n",
    "  <li> <code>git init</code>: مخزن جدید Git را مقداردهی اولیه می‌کند.</li>\n",
    "  <li><code>git clone</code>: یک مخزن موجود را کلون می‌کند.  </li>\n",
    "    "
   ]
  },
  {
   "cell_type": "code",
   "execution_count": null,
   "id": "4a0be2cd-5443-4a97-9239-3ad4d3aa4c4c",
   "metadata": {},
   "outputs": [],
   "source": [
    "git clone https://github.com/user/repo.git  "
   ]
  },
  {
   "cell_type": "markdown",
   "id": "2a96a58e-9c4e-464d-a65a-81556a1ecb1f",
   "metadata": {},
   "source": [
    "  <li><code>git status</code>: وضعیت دایرکتوری کاری را نمایش می‌دهد.  </li>"
   ]
  },
  {
   "cell_type": "code",
   "execution_count": null,
   "id": "c9c98f38-49ed-46a6-8f3d-58773a358298",
   "metadata": {},
   "outputs": [],
   "source": [
    "git status  "
   ]
  },
  {
   "cell_type": "markdown",
   "id": "4639d83d-1354-4ddd-a488-865da6be75b4",
   "metadata": {},
   "source": [
    "  <li><code>git add</code>: فایل‌ها را به مرحله استیجینگ اضافه می‌کند.   </li>"
   ]
  },
  {
   "cell_type": "code",
   "execution_count": null,
   "id": "98531df0-6cfa-4b73-850b-9cd4e2d42b0a",
   "metadata": {},
   "outputs": [],
   "source": [
    "git add filename  "
   ]
  },
  {
   "cell_type": "markdown",
   "id": "9ff56428-0af6-44b0-ac95-edb2b29a1b95",
   "metadata": {},
   "source": [
    "  <li><code>git commit</code>: تغییرات را در مخزن ذخیره می‌کند.  </li>"
   ]
  },
  {
   "cell_type": "code",
   "execution_count": null,
   "id": "14e41c35-d570-4777-b56e-630fb91f03a6",
   "metadata": {},
   "outputs": [],
   "source": [
    "git commit -m \"Commit massage \"  "
   ]
  },
  {
   "cell_type": "markdown",
   "id": "8221e831-7c21-4b02-989a-28db63747e34",
   "metadata": {},
   "source": [
    "  <li><code>git push</code>: تغییرات را به مخزن راه دور ارسال می‌کند.  </li>"
   ]
  },
  {
   "cell_type": "code",
   "execution_count": null,
   "id": "88da161c-ad33-45c4-9c49-afc98d5537fa",
   "metadata": {},
   "outputs": [],
   "source": [
    "git push origin branchname  "
   ]
  },
  {
   "cell_type": "markdown",
   "id": "c453c6b6-4522-4d08-aae8-ee9cd2fc0aeb",
   "metadata": {},
   "source": [
    "  <li><code>git pull</code>: تغییرات را از مخزن راه دور دریافت می‌کند.  </li>"
   ]
  },
  {
   "cell_type": "code",
   "execution_count": null,
   "id": "0739025f-7438-4674-b2d9-e15686940e21",
   "metadata": {},
   "outputs": [],
   "source": [
    "git pull origin branchname  "
   ]
  },
  {
   "cell_type": "markdown",
   "id": "832da2a2-4c6c-45fe-8631-ac0b7cfb3577",
   "metadata": {},
   "source": [
    "# شاخه بندی و یکی کردن (Branching and Merging)\n",
    "\n",
    "گیت به شما این امکان را می‌دهد که شاخه‌هایی ایجاد کنید تا به طور مستقل روی ویژگی‌ها یا اصلاحات مختلف کار کنید. در اینجا برخی از دستورات مربوط به شاخه بندی و ادغام آورده شده است:\n",
    "- <code>git branch</code> نمایش، ایجاد و پاک کردن شاخه ها\n"
   ]
  },
  {
   "cell_type": "code",
   "execution_count": null,
   "id": "89827582-5868-445a-9f57-0dd5047f4b26",
   "metadata": {},
   "outputs": [],
   "source": [
    "git branch\n",
    "git branch new-branch\n",
    "git branch -d old-branch"
   ]
  },
  {
   "cell_type": "markdown",
   "id": "072fb531-dc1e-4032-b88b-0e8c44cb7ba6",
   "metadata": {},
   "source": [
    "- <code>git checkout</code>:  با این دستور می‌توان شاخه مورد نظر را انتخاب کرد"
   ]
  },
  {
   "cell_type": "code",
   "execution_count": null,
   "id": "341cbfdc-b8e7-4274-b962-d42b3461bbac",
   "metadata": {},
   "outputs": [],
   "source": [
    "git checkout branchname"
   ]
  },
  {
   "cell_type": "markdown",
   "id": "eb8abb5f-924e-4566-8d36-1c451def7d64",
   "metadata": {},
   "source": [
    "- <code>git merge</code>: تغیرات یک شاخه را به شاخه دیگر اعمال می‌کند"
   ]
  },
  {
   "cell_type": "code",
   "execution_count": null,
   "id": "bed6c53d-bbb1-45b9-aff5-0f6935825a7e",
   "metadata": {},
   "outputs": [],
   "source": [
    "git checkout main\n",
    "git merge branchname"
   ]
  },
  {
   "cell_type": "markdown",
   "id": "3538c065-b15e-434c-b8da-d87803140aa5",
   "metadata": {},
   "source": [
    "# برطرف کردن تعارض ها در هنگام ادغام کردن شاخه ها\n",
    "تعارض‌های ادغام زمانی رخ می‌دهند که تغییرات از شاخه‌های مختلف با یکدیگر تداخل داشته باشند. برای حل تعارض‌های ادغام:\n"
   ]
  },
  {
   "cell_type": "markdown",
   "id": "453c16b4-f7a2-490d-bf29-350345711d54",
   "metadata": {},
   "source": [
    "- <code>git status</code>: تعارض‌های بین شاخه ها را شناسایی می‌کند"
   ]
  },
  {
   "cell_type": "code",
   "execution_count": null,
   "id": "beb868a9-60a6-404d-9ed1-d014a573c57c",
   "metadata": {},
   "outputs": [],
   "source": [
    "git status"
   ]
  },
  {
   "cell_type": "markdown",
   "id": "d7abcd46-7337-4a4c-becd-7ba13686a083",
   "metadata": {},
   "source": [
    "- فایل‌های دارای تعارض را باز کرده و به‌صورت دستی تعارض‌ها را برطرف کنید.\n",
    "\n",
    "- پس از حل تعارض‌ها، فایل‌های اصلاح‌شده را به staging area اضافه کنید تا به‌عنوان حل‌شده علامت‌گذاری شوند."
   ]
  },
  {
   "cell_type": "code",
   "execution_count": null,
   "id": "5fa7943a-1db0-40a7-b7ca-ad958afc251b",
   "metadata": {},
   "outputs": [],
   "source": [
    "git add resolved_file.txt"
   ]
  },
  {
   "cell_type": "markdown",
   "id": "e3e3a18b-717e-4299-8a51-060fb45e8274",
   "metadata": {},
   "source": [
    "تغیرات انجام شده را کامیت کنید"
   ]
  },
  {
   "cell_type": "code",
   "execution_count": null,
   "id": "0e35d3d7-069b-4185-93ec-d477ee6de475",
   "metadata": {},
   "outputs": [],
   "source": [
    "git commit -m \"Resolved merge conflicts\""
   ]
  },
  {
   "cell_type": "markdown",
   "id": "715300bf-47ac-4cce-a1be-b19e93381b7c",
   "metadata": {},
   "source": [
    "# استفاده از .gitignore\n",
    "فایل .gitignore مشخص می‌کند که کدام فایل‌ها و پوشه‌ها باید در یک مخزن Git نادیده گرفته شوند. در اینجا یک مثال از فایل .gitignore آمده است:\n"
   ]
  },
  {
   "cell_type": "code",
   "execution_count": null,
   "id": "ef0b79b1-c7cf-43f9-a5fd-d544e1c82d7a",
   "metadata": {},
   "outputs": [],
   "source": [
    "# Ignore all .log files\n",
    "*.log\n",
    "\n",
    "# Ignore the node_modules directory\n",
    "node_modules/\n",
    "\n",
    "# Ignore all files in the temp directory\n",
    "temp/"
   ]
  },
  {
   "cell_type": "markdown",
   "id": "33c569b9-08b9-4780-9915-9512efd5a6dc",
   "metadata": {},
   "source": [
    "# کار با مخزن راه دور\n",
    "مخزن راه دور را میتوانیم با استفاده از دستورات زیر مدیریت کنیم\n",
    "\n",
    "- <code>git remote</code>: مدیریت مخازن از راه دور. مثال: git remote add origin https://github.com/user/repo.git یک مخزن از راه دور اضافه می‌کند.\n"
   ]
  },
  {
   "cell_type": "code",
   "execution_count": null,
   "id": "7bfb0d02-70a3-41fe-9126-69bd0a7e61fd",
   "metadata": {},
   "outputs": [],
   "source": [
    "git remote add origin https://github.com/user/repo.git"
   ]
  },
  {
   "cell_type": "markdown",
   "id": "80565cbc-15bd-449d-afa4-3fb6c4d9da24",
   "metadata": {},
   "source": [
    "- <code>git fetch</code>: دریافت تغییرات از یک مخزن از راه دور بدون ادغام آنها."
   ]
  },
  {
   "cell_type": "code",
   "execution_count": null,
   "id": "5b50f0a9-4613-4192-b4ed-6d91d8ab0784",
   "metadata": {},
   "outputs": [],
   "source": [
    "git fetch origin"
   ]
  },
  {
   "cell_type": "markdown",
   "id": "1048b932-be53-4f1c-88d2-96330b1bf63b",
   "metadata": {},
   "source": [
    "- <code>git pull</code>: دریافت و ادغام تغییرات از یک مخزن از راه دور."
   ]
  },
  {
   "cell_type": "code",
   "execution_count": null,
   "id": "524e6f3c-0e34-4101-ba6d-14e4f86226d1",
   "metadata": {},
   "outputs": [],
   "source": [
    "git pull origin branchname"
   ]
  },
  {
   "cell_type": "markdown",
   "id": "58892282-a0c0-4060-a919-a2b735d9af6e",
   "metadata": {},
   "source": [
    "- <code>git push</code>: ارسال تغییرات به یک مخزن از راه دور."
   ]
  },
  {
   "cell_type": "code",
   "execution_count": null,
   "id": "c1599f89-ad3a-4447-95cc-3fc221330188",
   "metadata": {},
   "outputs": [],
   "source": [
    "git push origin branchname"
   ]
  },
  {
   "cell_type": "markdown",
   "id": "4242c2a6-3077-437b-b06f-35ad10b3468a",
   "metadata": {},
   "source": [
    "# امکانات پیشرفته\n",
    "در اینجا برخی از ویژگی‌های پیشرفته Git آورده شده است که می‌توانند به شما کمک کنند تا کدبیس خود را به طور مؤثرتر مدیریت کنید:\n",
    "\n",
    "<code>git rebase</code>: بازپخش کامیت‌ها روی یک نقطه پایه دیگر. مثال: <code>git rebase main</code> شاخه جاری را روی شاخه اصلی بازپخش می‌کند."
   ]
  },
  {
   "cell_type": "code",
   "execution_count": null,
   "id": "1deac62f-6ac4-4e68-9bda-499b2f84d2be",
   "metadata": {},
   "outputs": [],
   "source": [
    "git rebase main"
   ]
  },
  {
   "cell_type": "markdown",
   "id": "a8530cf1-520f-44b4-bb9a-78c56a2e185c",
   "metadata": {},
   "source": [
    "- <code>git stash</code>: ذخیره تغییرات در یک دایرکتوری کاری نامرتب. مثال: <code>git stash</code> تغییرات جاری را ذخیره می‌کند.\n"
   ]
  },
  {
   "cell_type": "code",
   "execution_count": null,
   "id": "12c4c9cd-78f0-4931-802c-498d5e0096c8",
   "metadata": {},
   "outputs": [],
   "source": [
    "git stash"
   ]
  },
  {
   "cell_type": "markdown",
   "id": "85b86287-efc0-4a1e-a53c-cfde6baf10fa",
   "metadata": {},
   "source": [
    "- <code>git stash pop</code>: اعمال تغییرات ذخیره‌شده و حذف آنها از لیست ذخیره‌ها."
   ]
  },
  {
   "cell_type": "code",
   "execution_count": null,
   "id": "5785afb1-50bf-4640-af85-21ee272a0917",
   "metadata": {},
   "outputs": [],
   "source": [
    "git stash pop"
   ]
  },
  {
   "cell_type": "markdown",
   "id": "be31ac2f-b750-4c0d-a5a3-fa26d8492e94",
   "metadata": {},
   "source": [
    "# مستندات بیشتر\n",
    "\n",
    "برای اطلاعات بیشتر و استفاده پیشرفته، می‌توانید به مستندات رسمی Git و منابع زیر مراجعه کنید:\n",
    "\n",
    " -   مستندات رسمی Git\n",
    " -   کتاب Pro Git\n",
    " -   ورق تقلب Git\n",
    "\n",
    "با تسلط بر Git، می‌توانید کدبیس خود را به طور مؤثر مدیریت کنید، با دیگران همکاری کنید و تاریخچه پروژه خود را نگهداری کنید."
   ]
  },
  {
   "cell_type": "markdown",
   "id": "b17d664d-ecad-4dbc-b655-1c4cbfddf67c",
   "metadata": {},
   "source": [
    "# پایتون\n",
    "پایتون یک زبان برنامه‌نویسی چندمنظوره است که به دلیل سادگی و خوانایی‌اش محبوب است. این زبان به طور گسترده‌ای برای تحلیل داده‌ها، یادگیری ماشین، توسعه وب، اسکریپت‌نویسی و موارد دیگر استفاده می‌شود.\n",
    "# محیط‌های مجازی\n",
    "\n",
    "محیط‌های مجازی وابستگی‌های پروژه را ایزوله می‌کنند، از بروز تضاد بین پروژه‌های مختلف جلوگیری می‌کنند و یک محیط ثابت را تضمین می‌کنند. در اینجا مقایسه‌ای کوتاه از venv و conda آورده شده است:\n",
    "\n",
    "venv:\n",
    "\n",
    "    به همراه پایتون ارائه می‌شود (نیاز به نصب جداگانه ندارد).\n",
    "    سبک و ساده.\n",
    "    یک محیط مجازی را در شل فعلی فعال می‌کند.\n",
    "\n",
    "نصب و استفاده:"
   ]
  },
  {
   "cell_type": "code",
   "execution_count": null,
   "id": "ca31e624-373b-48e2-a980-cfff17170c3e",
   "metadata": {},
   "outputs": [],
   "source": [
    "# Create a virtual environment\n",
    "python -m venv myenv\n",
    "# Activate it (Linux/macOS)\n",
    "source myenv/bin/activate\n",
    "# Activate it (Windows)\n",
    "myenv\\Scripts\\activate"
   ]
  },
  {
   "cell_type": "markdown",
   "id": "c7deced5-89aa-450a-9ee9-7e8d52fcd29d",
   "metadata": {},
   "source": [
    "conda:\n",
    "\n",
    "    نیاز به نصب Anaconda یا Miniconda دارد.\n",
    "    نسخه‌های پایتون و بسته‌ها را به طور مؤثر مدیریت می‌کند.\n",
    "    کتابخانه‌های گسترده علم داده و مدیریت محیط را ارائه می‌دهد.\n",
    "\n",
    "نصب و استفاده:"
   ]
  },
  {
   "cell_type": "code",
   "execution_count": null,
   "id": "1709afa4-d04d-4919-9923-db15a3fd345c",
   "metadata": {},
   "outputs": [],
   "source": [
    "# Create a conda environment\n",
    "conda create --name myenv python=3.12\n",
    "# Activate the environment\n",
    "conda activate myenv\n",
    "# Deactivate the environment\n",
    "conda deactivate"
   ]
  },
  {
   "cell_type": "markdown",
   "id": "f88b0f06-76ca-45c7-97d6-81fd8a9386da",
   "metadata": {},
   "source": [
    "شما می‌توانید نسخه‌های مختلف conda را از طریق Anaconda و Miniconda پیدا کنید."
   ]
  },
  {
   "cell_type": "markdown",
   "id": "2ceac253-079b-48e6-9ef9-06882a6e24f1",
   "metadata": {},
   "source": [
    "# نصب کتاب‌خوانه های پایتون در محیط مجازی\n",
    "هنگام استفاده از یک محیط مجازی، می‌توانید بسته‌ها را با استفاده از pip نصب کنید (اگر از venv یا داخل یک محیط conda استفاده می‌کنید):\n"
   ]
  },
  {
   "cell_type": "code",
   "execution_count": null,
   "id": "39ca51c4-36b1-43db-8293-66ea1bc5933a",
   "metadata": {},
   "outputs": [],
   "source": [
    "pip install requests"
   ]
  },
  {
   "cell_type": "markdown",
   "id": "311fe25c-2bca-4a9d-ba9b-afaeb8ba5b3d",
   "metadata": {},
   "source": [
    "برای محیط conda "
   ]
  },
  {
   "cell_type": "code",
   "execution_count": null,
   "id": "a91eb735-9e9d-445e-b48f-256823d7c6c3",
   "metadata": {},
   "outputs": [],
   "source": [
    "conda install numpy"
   ]
  },
  {
   "cell_type": "markdown",
   "id": "6cdc4505-8978-4909-bd45-a8b1a98b0fa0",
   "metadata": {},
   "source": [
    "استفاده از محیط مجازی اطمینان می‌دهد که بسته‌ها در داخل محیط شما مستقل باشند."
   ]
  },
  {
   "cell_type": "markdown",
   "id": "bf25987c-3219-45e6-8e67-7a6a09a3ce01",
   "metadata": {},
   "source": [
    "# نصب بسته‌ها از فایل requirements.txt\n",
    "اگر فایل requirements.txt شما وابستگی‌ها را فهرست کرده باشد،:"
   ]
  },
  {
   "cell_type": "code",
   "execution_count": null,
   "id": "d3bfbe06-f891-41df-92cb-f7269e07dbb6",
   "metadata": {},
   "outputs": [],
   "source": [
    "requests==2.28.1\n",
    "numpy==1.24.0"
   ]
  },
  {
   "cell_type": "markdown",
   "id": "f6bce5a3-de4f-4ccf-a81a-4a876d231cd7",
   "metadata": {},
   "source": [
    " می‌توانید با استفاده از دستور زیر آن‌ها را نصب کنید"
   ]
  },
  {
   "cell_type": "code",
   "execution_count": null,
   "id": "7537b465-551d-4e23-ab43-951828717add",
   "metadata": {},
   "outputs": [],
   "source": [
    "pip install -r requirements.txt"
   ]
  },
  {
   "cell_type": "markdown",
   "id": "d75b0e7b-baad-470f-82fe-d8cf8e81a5e5",
   "metadata": {},
   "source": [
    "برای conda (اگر می‌توانید وابستگی‌ها را به فرمت conda تبدیل کنید، یا بسته‌های مبتنی بر pip را در یک محیط conda نصب کنید):"
   ]
  },
  {
   "cell_type": "code",
   "execution_count": null,
   "id": "cd8fbb4d-8894-4c91-9b07-544348bc9564",
   "metadata": {},
   "outputs": [],
   "source": [
    "conda install --file requirements.txt"
   ]
  },
  {
   "cell_type": "markdown",
   "id": "2e92745b-92b9-476a-927c-f51ff462cd5b",
   "metadata": {},
   "source": [
    "این کار به مدیریت وابستگی‌های پروژه در یک فایل واحد کمک می‌کند."
   ]
  },
  {
   "cell_type": "markdown",
   "id": "8b1ba42b-7044-4437-afb3-769c9fc9c9c3",
   "metadata": {},
   "source": [
    "# ایجاد بسته‌ها با استفاده از pyproject.toml:\n",
    "فایل pyproject.toml یک روش مدرن برای مدیریت بسته‌ها در پایتون است و جایگزینی برای فایل‌های قدیمی مانند setup.py و requirements.txt می‌باشد. این فایل تنظیمات مربوط به پروژه را مشخص می‌کند، از جمله وابستگی‌ها، اطلاعات بسته و پیکربندی ابزارهای مختلف.\n",
    "\n",
    "یک مثال ساده:"
   ]
  },
  {
   "cell_type": "code",
   "execution_count": null,
   "id": "6c582227-e45c-411a-a46c-7509806c08dd",
   "metadata": {},
   "outputs": [],
   "source": [
    "[project]\n",
    "name = \"my_package\"\n",
    "version = \"0.1.0\"\n",
    "description = \"A sample Python package\"\n",
    "authors = [\n",
    "    { name=\"Your Name\", email=\"your_email@example.com\" }\n",
    "]\n",
    "dependencies = [\n",
    "  \"requests~=2.28.0\",\n",
    "  \"numpy~=1.24.0\"\n",
    "]\n",
    "\n",
    "readme = \"README.md\"\n",
    "license = { text = \"MIT\" }\n",
    "requires-python = \">=3.7\"\n",
    "\n",
    "[build-system]\n",
    "requires = [\"setuptools\", \"wheel\"]\n",
    "build-backend = \"setuptools.build_meta\""
   ]
  },
  {
   "cell_type": "markdown",
   "id": "c65fedec-abfe-4b9a-8842-6faaf5bab715",
   "metadata": {},
   "source": [
    "استانداردهای پیشنهادی PEP شامل موارد زیر است:\n",
    "\n",
    " -   PEP 8 برای سبک کدنویسی.\n",
    " -   PEP 484 برای نشانه‌گذاری نوع (type hints).\n",
    " -   PEP 517 برای ساخت بسته‌ها.\n",
    " -   PEP 621 برای متاداده پروژه در فایل pyproject.toml.\n",
    "\n",
    "برای راهنمایی دقیق‌تر در مورد نوشتن فایل pyproject.toml و بسته‌بندی پایتون، به مستندات رسمی بسته‌بندی پایتون مراجعه کنید."
   ]
  },
  {
   "cell_type": "markdown",
   "id": "ae0768e0-ce72-4b2a-9e62-e76c173c8359",
   "metadata": {},
   "source": [
    "# نصب‌های ویرایشی\n",
    "اگر یک فایل pyproject.toml برای پروژه خود دارید، می‌توانید آن را در حالت ویرایشی نصب کنید که به شما این امکان را می‌دهد که تغییرات محلی بلافاصله در بسته شما منعکس شوند.\n",
    "\n",
    "برای نصب در حالت ویرایشی، از دستور زیر استفاده کنید:"
   ]
  },
  {
   "cell_type": "code",
   "execution_count": null,
   "id": "3af468c4-4d06-4605-9d8d-6100f502959a",
   "metadata": {},
   "outputs": [],
   "source": [
    "pip install -e ."
   ]
  },
  {
   "cell_type": "markdown",
   "id": "06e6291b-f2bf-4b22-b764-58c9d3c55cd4",
   "metadata": {},
   "source": [
    "# ساختار پوشه پیشنهادی برای پروژه:\n",
    "\n",
    "یک ساختار استاندارد برای پروژه‌های پایتون به این صورت است:"
   ]
  },
  {
   "cell_type": "code",
   "execution_count": null,
   "id": "d03eba15-525e-4a08-80c4-4d796bc3f71d",
   "metadata": {},
   "outputs": [],
   "source": [
    "my_project/\n",
    "│\n",
    "├── my_project/               # پوشه اصلی کد پروژه\n",
    "│   ├── __init__.py           # فایل برای تبدیل به یک پکیج پایتون\n",
    "│   ├── module1.py            # ماژول 1\n",
    "│   ├── module2.py            # ماژول 2\n",
    "│   └── ...                   # سایر فایل‌ها و ماژول‌ها\n",
    "│\n",
    "├── tests/                    # پوشه تست‌ها\n",
    "│   ├── __init__.py\n",
    "│   ├── test_module1.py       # تست‌های ماژول 1\n",
    "│   ├── test_module2.py       # تست‌های ماژول 2\n",
    "│   └── ...                   # سایر تست‌ها\n",
    "│\n",
    "├── pyproject.toml            # تنظیمات بسته و پروژه\n",
    "├── setup.py                  # نصب‌کننده و پیکربندی بسته (اگر از آن استفاده می‌کنید)\n",
    "├── requirements.txt          # وابستگی‌های پایتون (اگر از pip استفاده می‌کنید)\n",
    "├── README.md                 # توضیحات پروژه\n",
    "└── LICENSE                   # مجوز پروژه\n"
   ]
  },
  {
   "cell_type": "markdown",
   "id": "bb25a435-c422-483e-a257-dc1f9d98406d",
   "metadata": {},
   "source": [
    "این ساختار  با جداسازی واضح بین کد، تست‌ها و فایل‌های پیکربند به شما کمک می‌کند تا پروژه‌تان سازماندهی شده و قابل مقیاس باشد."
   ]
  },
  {
   "cell_type": "markdown",
   "id": "6067fe0b-adec-4a5c-9091-ec87cc23f1c3",
   "metadata": {},
   "source": [
    "# نوشتن و اجرای تست‌ها\n",
    "\n",
    "تست‌نویسی برای اطمینان از درستی و پایداری کد شما ضروری است. یکی از فریم‌ورک‌های محبوب برای تست‌نویسی، pytest است. یک تنظیم معمولی برای استفاده از pytest به شرح زیر است:\n",
    "\n",
    "    نصب pytest: برای نصب pytest می‌توانید از دستور زیر استفاده کنید:"
   ]
  },
  {
   "cell_type": "code",
   "execution_count": null,
   "id": "e1100c8f-5e18-4784-ae0f-f54a63e5416e",
   "metadata": {},
   "outputs": [],
   "source": [
    "pip install pytest"
   ]
  },
  {
   "cell_type": "markdown",
   "id": "9c21094a-bab2-4d5d-8c25-129d61dc0f16",
   "metadata": {},
   "source": [
    "نوشتن تست‌ها: پس از نصب pytest، می‌توانید تست‌ها را در پوشه‌ای مانند tests/ بنویسید. تست‌ها معمولاً با پیشوند test_ نام‌گذاری می‌شوند و می‌توانند مانند این باشند:"
   ]
  },
  {
   "cell_type": "code",
   "execution_count": null,
   "id": "3861284a-8102-4c8b-8006-0f7d8645893a",
   "metadata": {},
   "outputs": [],
   "source": [
    "# test_example.py\n",
    "def test_addition():\n",
    "    assert 1 + 1 == 2\n",
    "\n",
    "def test_subtraction():\n",
    "    assert 2 - 1 == 1"
   ]
  },
  {
   "cell_type": "markdown",
   "id": "e3f34dad-85f1-443d-b782-eb383b4aabd1",
   "metadata": {},
   "source": [
    "اجرای تست‌ها: برای اجرای تست‌ها کافی است دستور زیر را اجرا کنید:"
   ]
  },
  {
   "cell_type": "code",
   "execution_count": null,
   "id": "35e052e3-2fa7-4778-8750-e30a601b9e49",
   "metadata": {},
   "outputs": [],
   "source": [
    "pytest"
   ]
  },
  {
   "cell_type": "markdown",
   "id": "15c3493e-a65b-42c0-a735-e5892ebc5066",
   "metadata": {},
   "source": [
    "    این دستور به طور خودکار تمام تست‌ها را پیدا کرده و اجرا می‌کند.\n",
    "\n",
    "با استفاده از pytest می‌توانید تست‌های ساده یا پیچیده‌ای بنویسید و آن‌ها را به راحتی اجرا و گزارش‌گیری کنید.\n",
    "استفاده از ابزارهای یکپارچه‌سازی مداوم (CI) همراه با تست‌نویسی، به حفظ یک کدبیس قابل اعتماد کمک می‌کند. با تسلط بر محیط‌های مجازی، بسته‌بندی با pyproject.toml، رعایت استانداردهای PEP، و نوشتن تست‌های دقیق، می‌توانید پروژه‌های پایتون پایدار و قابل نگهداری بسازید."
   ]
  },
  {
   "cell_type": "markdown",
   "id": "be0f6e85-a1b1-49b2-8330-c004663babed",
   "metadata": {},
   "source": [
    "# کلاس ها در پایتون\n",
    "در پایتون، کلاس‌ها برای ایجاد ساختارهای داده تعریف‌شده توسط کاربر استفاده می‌شوند. آن‌ها به شما این امکان را می‌دهند که داده‌ها و عملکردها را به هم متصل کنید. ایجاد یک کلاس جدید یک نوع جدید از شیء ایجاد می‌کند و امکان ایجاد نمونه‌های جدید از آن نوع را فراهم می‌کند. هر نمونه کلاس می‌تواند ویژگی‌هایی داشته باشد که وضعیت آن را حفظ کند. نمونه‌های کلاس همچنین می‌توانند متدهایی (که توسط کلاس آن‌ها تعریف می‌شود) برای تغییر وضعیت خود داشته باشند."
   ]
  },
  {
   "cell_type": "markdown",
   "id": "46bfb6df-d8f8-450a-8b26-a39f974173bc",
   "metadata": {},
   "source": [
    "# تعریف یک کلاس\n",
    "\n",
    "در اینجا یک مثال از تعریف یک کلاس ساده آورده شده است:"
   ]
  },
  {
   "cell_type": "code",
   "execution_count": null,
   "id": "d97243a8-64de-4526-ad68-01ca4dc940ec",
   "metadata": {},
   "outputs": [],
   "source": [
    "class Shape:\n",
    "    def __init__(self, color):\n",
    "        self.color = color\n",
    "\n",
    "    def describe(self):\n",
    "        return f\"This shape is {self.color}.\"\n"
   ]
  },
  {
   "cell_type": "markdown",
   "id": "c7cf1e0f-7966-4e2b-a4d6-2d620291035a",
   "metadata": {},
   "source": [
    "متد __init__ یک متد ویژه است که زمانی که یک نمونه از کلاس ایجاد می‌شود، فراخوانی می‌شود. این متد نمونه را با آرگومان‌های داده شده مقداردهی اولیه می‌کند. پارامتر self به نمونه‌ای که در حال ایجاد است اشاره دارد.\n",
    "\n",
    "پارامتر self یک مرجع به نمونه فعلی کلاس است. از آن برای دسترسی به متغیرها و متدهای مربوط به نمونه استفاده می‌شود."
   ]
  },
  {
   "cell_type": "markdown",
   "id": "bb185856-e9c5-4d72-b78b-821cb20afb30",
   "metadata": {},
   "source": [
    "# ایجاد یک نمونه (Instance)\n",
    "\n",
    "برای ایجاد یک نمونه از کلاس، می‌توانید با فراخوانی نام کلاس و ارسال آرگومان‌های مورد نیاز، یک شیء جدید ایجاد کنید.\n",
    "مثال:"
   ]
  },
  {
   "cell_type": "code",
   "execution_count": null,
   "id": "acb4fc89-98e9-433a-b021-40199982af98",
   "metadata": {},
   "outputs": [],
   "source": [
    "my_shape = Shape(\"red\")\n",
    "print(my_shape.describe())  # Output: This shape is red."
   ]
  },
  {
   "cell_type": "markdown",
   "id": "e5c0fdde-803d-4fe7-8bf3-29b612a6c7f6",
   "metadata": {},
   "source": [
    "# وراثت (Inheritance)\n",
    "\n",
    "کلاس‌ها می‌توانند از کلاس‌های دیگر ارث‌بری کنند. این امکان را به شما می‌دهد که یک سلسله‌مراتب از کلاس‌ها بسازید که مجموعه‌ای از ویژگی‌ها و متدها را به اشتراک بگذارند.\n"
   ]
  },
  {
   "cell_type": "code",
   "execution_count": null,
   "id": "bf36c0f9-afc3-4da4-84b1-2ebeff4421f2",
   "metadata": {},
   "outputs": [],
   "source": [
    "class Rectangle(Shape):\n",
    "    def __init__(self, color, width, height):\n",
    "        super().__init__(color)\n",
    "        self.width = width\n",
    "        self.height = height\n",
    "\n",
    "    def area(self):\n",
    "        return self.width * self.height\n",
    "\n",
    "    def describe(self):\n",
    "        return f\"This rectangle is {self.color}, with an area of {self.area()} square units.\""
   ]
  },
  {
   "cell_type": "markdown",
   "id": "51cca1d8-b049-4cc3-af45-f59d89a991df",
   "metadata": {},
   "source": [
    "# استفاده از زیرکلاس (Subclass)\n",
    "\n",
    "شما می‌توانید یک نمونه از زیرکلاس ایجاد کنید و از متدهای آن استفاده کنید. زیرکلاس‌ها می‌توانند از ویژگی‌ها و متدهای کلاس والد خود ارث‌بری کنند و آن‌ها را گسترش دهند."
   ]
  },
  {
   "cell_type": "code",
   "execution_count": null,
   "id": "4dfc4e9d-a986-478b-afbc-eab514a20242",
   "metadata": {},
   "outputs": [],
   "source": [
    "my_rectangle = Rectangle(\"blue\", 3, 4)\n",
    "print(my_rectangle.describe())  # Output: This rectangle is blue, with an area of 12 square units."
   ]
  },
  {
   "cell_type": "markdown",
   "id": "b06fa603-0303-4849-8657-20e2a9990e00",
   "metadata": {},
   "source": [
    "# متد __call__\n",
    "\n",
    "متد __call__ به شما این امکان را می‌دهد که یک نمونه از کلاس را مانند یک تابع فراخوانی کنید. این ویژگی برای مواقعی مفید است که بخواهید از یک شیء مانند یک تابع استفاده کنید."
   ]
  },
  {
   "cell_type": "code",
   "execution_count": null,
   "id": "dbfed5a6-5a0e-4b7c-907d-bc4131b68809",
   "metadata": {},
   "outputs": [],
   "source": [
    "class Circle(Shape):\n",
    "    def __init__(self, color, radius):\n",
    "        super().__init__(color)\n",
    "        self.radius = radius\n",
    "\n",
    "    def area(self):\n",
    "        return 3.14 * self.radius * self.radius\n",
    "\n",
    "    def __call__(self):\n",
    "        return f\"This circle is {self.color}, with an area of {self.area()} square units.\""
   ]
  },
  {
   "cell_type": "markdown",
   "id": "c9bfc61c-4e00-4bd8-995d-56227c6eb9c2",
   "metadata": {},
   "source": [
    "# استفاده از متد __call__\n",
    "\n",
    "شما می‌توانید یک نمونه از کلاس را ایجاد کرده و آن را مانند یک تابع فراخوانی کنید. به این ترتیب، شیء خود را می‌توانید مانند یک تابع عملگر فراخوانی کنید که باعث می‌شود کد شما انعطاف‌پذیرتر و ساده‌تر باشد."
   ]
  },
  {
   "cell_type": "code",
   "execution_count": null,
   "id": "2d85ca5f-2322-43f0-9b7f-68c3062b4cd1",
   "metadata": {},
   "outputs": [],
   "source": [
    "my_circle = Circle(\"green\", 5)\n",
    "print(my_circle())  # Output: This circle is green, with an area of 78.5 square units."
   ]
  },
  {
   "cell_type": "markdown",
   "id": "752ec798-8bb1-4844-b673-3805c373561a",
   "metadata": {},
   "source": [
    "# مستندات بیشتر\n",
    "\n",
    "برای کسب اطلاعات بیشتر در مورد کلاس‌ها و برنامه‌نویسی شی‌گرا (OOP) در پایتون، می‌توانید به منابع زیر مراجعه کنید:\n",
    "\n",
    "    مستندات رسمی پایتون در مورد کلاس‌ها\n",
    "    راهنمای Real Python در مورد کلاس‌ها و OOP\n",
    "    آموزش OOP در پایتون\n",
    "\n",
    "این منابع به شما کمک می‌کنند که درک عمیق‌تری از برنامه‌نویسی شی‌گرا در پایتون پیدا کنید و به شما در نوشتن کدهای موثرتر و مقیاس‌پذیرتر کمک خواهند کرد."
   ]
  }
 ],
 "metadata": {
  "kernelspec": {
   "display_name": "Python 3 (ipykernel)",
   "language": "python",
   "name": "python3"
  },
  "language_info": {
   "codemirror_mode": {
    "name": "ipython",
    "version": 3
   },
   "file_extension": ".py",
   "mimetype": "text/x-python",
   "name": "python",
   "nbconvert_exporter": "python",
   "pygments_lexer": "ipython3",
   "version": "3.13.1"
  }
 },
 "nbformat": 4,
 "nbformat_minor": 5
}
