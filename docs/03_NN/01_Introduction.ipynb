{
 "cells": [
  {
   "cell_type": "markdown",
   "id": "b1696568",
   "metadata": {},
   "source": [
    "# شبکه‌های عصبی"
   ]
  },
  {
   "cell_type": "markdown",
   "id": "15907b1f",
   "metadata": {},
   "source": []
  }
 ],
 "metadata": {
  "language_info": {
   "name": "python"
  }
 },
 "nbformat": 4,
 "nbformat_minor": 5
}
