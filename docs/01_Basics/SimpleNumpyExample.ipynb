{
 "cells": [
  {
   "cell_type": "markdown",
   "metadata": {},
   "source": [
    "# numpy\n",
    "\n",
    "\n",
    "## مقدمه\n",
    "\n",
    "در دنیای امروز، داده‌ها و محاسبات عددی نقش اساسی در پیشبرد علوم و فناوری ایفا می‌کنند. از تحلیل داده‌های بزرگ گرفته تا شبیه‌سازی‌های پیچیده‌ی علمی، نیاز به ابزارهایی کارآمد و سریع برای پردازش و محاسبات عددی بیش از پیش احساس می‌شود. در این میان، کتابخانه‌های برنامه‌نویسی مانند **NumPy** به عنوان یکی از ابزارهای قدرتمند و پرکاربرد در زبان پایتون، جایگاه ویژه‌ای دارند.\n",
    "\n",
    "**NumPy** (مخفف Numerical Python) یک کتابخانه‌ی متن‌باز و قدرتمند است که برای انجام عملیات‌های عددی و علمی در پایتون طراحی شده است. هسته‌ی اصلی این کتابخانه، ساختار داده‌ای به نام **آرایه (Array)** است که امکان ذخیره‌سازی و پردازش حجم عظیمی از داده‌ها را به صورت کارآمد فراهم می‌کند. آرایه‌ها در NumPy به دلیل سادگی و سرعت بالا، به یکی از ابزارهای ضروری در محاسبات عددی تبدیل شده‌اند.\n",
    "\n",
    "## اهمیت استفاده از آرایه‌ها در برنامه‌نویسی و محاسبات عددی\n",
    "\n",
    "1. **کارایی و سرعت بالا**: آرایه‌ها در NumPy به گونه‌ای طراحی شده‌اند که عملیات‌های ریاضی و محاسباتی را با سرعت بسیار بالاتری نسبت به لیست‌های معمولی پایتون انجام می‌دهند. این افزایش سرعت به دلیل استفاده از الگوریتم‌های بهینه‌شده و پیاده‌سازی‌های سطح پایین در NumPy است.\n",
    "\n",
    "2. **حافظه‌ی بهینه**: آرایه‌ها در NumPy به صورت فشرده و با استفاده از ساختارهای داده‌ای کارآمد ذخیره می‌شوند. این امر باعث کاهش مصرف حافظه و افزایش کارایی در پردازش داده‌های حجیم می‌شود.\n",
    "\n",
    "3. **سهولت در انجام عملیات‌های برداری**: یکی از قابلیت‌های کلیدی NumPy، پشتیبانی از عملیات‌های برداری (Vectorized Operations) است. این ویژگی به شما امکان می‌دهد عملیات‌های ریاضی را بر روی کل آرایه‌ها بدون نیاز به نوشتن حلقه‌های پیچیده انجام دهید. این امر نه تنها کد را ساده‌تر می‌کند، بلکه سرعت اجرا را نیز به طور چشمگیری افزایش می‌دهد.\n",
    "\n",
    "4. **پشتیبانی از محاسبات ماتریسی**: در بسیاری از زمینه‌های علمی و مهندسی، محاسبات ماتریسی از اهمیت بالایی برخوردار است. NumPy با ارائه‌ی توابع و ابزارهای قدرتمند برای کار با ماتریس‌ها، انجام این محاسبات را تسهیل می‌کند.\n",
    "\n",
    "5. **یکپارچگی با سایر کتابخانه‌ها**: NumPy به عنوان پایه‌ی بسیاری از کتابخانه‌های علمی پایتون مانند SciPy, Pandas, Matplotlib و Scikit-learn عمل می‌کند. این یکپارچگی باعث می‌شود که بتوانید به راحتی از قابلیت‌های NumPy در کنار سایر ابزارهای تحلیلی و بصری‌سازی استفاده کنید."
   ]
  },
  {
   "cell_type": "markdown",
   "metadata": {},
   "source": [
    "## مثال: مشتق عددی با numpy\n",
    "\n",
    "در این بخش، کدهایی که در کلاس اجرا شده‌اند را به همراه توضیحات کامل و اشاره به امکانات بیشتر در NumPy بررسی می‌کنیم. همچنین در انتها دو سوال مناسب برای دانشجویان ارائه شده است.\n",
    "\n",
    "---\n",
    "\n",
    "### ۱. وارد کردن کتابخانه‌ها و ایجاد داده‌ها\n"
   ]
  },
  {
   "cell_type": "code",
   "execution_count": 4,
   "metadata": {
    "id": "cxaJpS20gpPL"
   },
   "outputs": [],
   "source": [
    "import numpy as np"
   ]
  },
  {
   "cell_type": "markdown",
   "metadata": {},
   "source": [
    "در این خط، کتابخانه‌ی NumPy با نام مستعار <code>np</code> وارد می‌شود. این نام مستعار به طور گسترده‌ای در جامعه‌ی علمی پایتون استفاده می‌شود و باعث کوتاه‌تر و خوانا‌تر شدن کد می‌شود."
   ]
  },
  {
   "cell_type": "code",
   "execution_count": 5,
   "metadata": {
    "id": "RednECHJgrwe"
   },
   "outputs": [],
   "source": [
    "x = np.arange(0,np.pi,0.01)"
   ]
  },
  {
   "cell_type": "markdown",
   "metadata": {},
   "source": [
    "تابع <code>np.arange</code> برای ایجاد یک آرایه‌ی یک‌بعدی از اعداد استفاده می‌شود. در اینجا، آرایه‌ی <code>x</code> از ۰ شروع می‌شود و تا <code>np.pi</code> (عدد پی) با گام‌های ۰٫۰۱ ادامه می‌یابد. این آرایه شامل مقادیر متوالی و یکنواخت است."
   ]
  },
  {
   "cell_type": "code",
   "execution_count": 6,
   "metadata": {},
   "outputs": [],
   "source": [
    "y = np.sin(x)"
   ]
  },
  {
   "cell_type": "markdown",
   "metadata": {},
   "source": [
    "تابع <code>np.sin</code> به صورت برداری (بر روی کل آرایه) عمل می‌کند و سینوس هر عنصر در آرایه‌ی <code>x</code> را محاسبه می‌کند. نتیجه در آرایه‌ی <code>y</code> ذخیره می‌شود."
   ]
  },
  {
   "cell_type": "code",
   "execution_count": 7,
   "metadata": {
    "colab": {
     "base_uri": "https://localhost:8080/"
    },
    "id": "RZVQi3QzhCHj",
    "outputId": "47671ea7-ae03-43d5-efc8-c864dcbffd8e"
   },
   "outputs": [
    {
     "name": "stdout",
     "output_type": "stream",
     "text": [
      "[0.   0.01 0.02 0.03 0.04] [0.         0.00999983 0.01999867 0.0299955  0.03998933] 315\n"
     ]
    }
   ],
   "source": [
    "print( x[0:5] , y[0:5] , len(x))"
   ]
  },
  {
   "cell_type": "markdown",
   "metadata": {},
   "source": [
    "این خط مقادیر <code>x</code>، <code>y</code> و طول آرایه‌ی <code>x</code> را چاپ می‌کند. این کار برای بررسی اولیه‌ی داده‌ها مفید است.\n",
    "\n",
    "---\n",
    "\n",
    "### ۲. محاسبه‌ی مشتق عددی به روش تفاضل محدود"
   ]
  },
  {
   "cell_type": "code",
   "execution_count": 8,
   "metadata": {
    "id": "yyHMoMReh1LF"
   },
   "outputs": [],
   "source": [
    "yprime = np.zeros(len(x)-1)"
   ]
  },
  {
   "cell_type": "markdown",
   "metadata": {},
   "source": [
    "یک آرایه‌ی خالی به نام <code>yprime</code> با طول <code>len(x)-1</code> ایجاد می‌شود. این آرایه برای ذخیره‌ی مقادیر مشتق استفاده خواهد شد."
   ]
  },
  {
   "cell_type": "code",
   "execution_count": 9,
   "metadata": {
    "id": "_lON30XhiXN3"
   },
   "outputs": [],
   "source": [
    "for i in range(len(x)-1):\n",
    "  yp = y[i+1] - y[i]\n",
    "  yp /= x[i+1] - x[i]\n",
    "  yprime[i] = yp"
   ]
  },
  {
   "cell_type": "markdown",
   "metadata": {},
   "source": [
    "در این حلقه، مشتق عددی به روش تفاضل محدود (Finite Difference) محاسبه می‌شود. برای هر نقطه، تفاضل مقدار تابع (<code>y[i+1] - y[i]</code>) بر تفاضل مقادیر <code>x</code> (<code>x[i+1] - x[i]</code>) تقسیم می‌شود. این مقدار در آرایه‌ی <code>yprime</code> ذخیره می‌شود.\n",
    "\n",
    "---\n",
    "### ۳. استفاده از توابع NumPy برای محاسبه‌ی مشتق"
   ]
  },
  {
   "cell_type": "code",
   "execution_count": 11,
   "metadata": {
    "colab": {
     "base_uri": "https://localhost:8080/"
    },
    "id": "8YFyGilYjJyx",
    "outputId": "e0c8ca78-b690-406d-ddc7-53b82a4751f1"
   },
   "outputs": [
    {
     "name": "stdout",
     "output_type": "stream",
     "text": [
      "[0.01 0.01 0.01 0.01 0.01]\n"
     ]
    }
   ],
   "source": [
    "dx = np.diff(x)\n",
    "print(dx[0:5])"
   ]
  },
  {
   "cell_type": "markdown",
   "metadata": {},
   "source": [
    "تابع <code>np.diff</code> تفاضل بین عناصر متوالی آرایه‌ی <code>x</code> را محاسبه می‌کند. نتیجه در آرایه‌ی <code>dx</code> ذخیره می‌شود."
   ]
  },
  {
   "cell_type": "code",
   "execution_count": 12,
   "metadata": {
    "id": "n4bagGZRkdZP"
   },
   "outputs": [],
   "source": [
    "yroll = np.roll(y , 1)"
   ]
  },
  {
   "cell_type": "markdown",
   "metadata": {},
   "source": [
    "تابع <code>np.roll</code> آرایه‌ی <code>y</code> را به اندازه‌ی ۱ عنصر به جلو می‌چرخاند. این کار برای محاسبه‌ی تفاضل بین عناصر متوالی مفید است."
   ]
  },
  {
   "cell_type": "code",
   "execution_count": 13,
   "metadata": {},
   "outputs": [],
   "source": [
    "dy = y - yroll"
   ]
  },
  {
   "cell_type": "markdown",
   "metadata": {},
   "source": [
    "تفاضل بین آرایه‌ی اصلی <code>y</code> و آرایه‌ی چرخانده‌شده (<code>yroll</code>) محاسبه می‌شود. نتیجه در آرایه‌ی <code>dy</code> ذخیره می‌شود."
   ]
  },
  {
   "cell_type": "code",
   "execution_count": 14,
   "metadata": {},
   "outputs": [],
   "source": [
    "yprime2 = dy[1:]/dx"
   ]
  },
  {
   "cell_type": "markdown",
   "metadata": {},
   "source": [
    "مشتق عددی با استفاده از تفاضل‌های محاسبه‌شده (<code>dy</code>) و <code>dx</code> محاسبه می‌شود. نتیجه در آرایه‌ی <code>yprime2</code> ذخیره می‌شود.\n",
    "\n",
    "---\n",
    "\n",
    "### ۴. رسم نمودارها با استفاده از Matplotlib"
   ]
  },
  {
   "cell_type": "code",
   "execution_count": 20,
   "metadata": {
    "colab": {
     "base_uri": "https://localhost:8080/",
     "height": 517
    },
    "id": "JGyZAZxBi4KE",
    "outputId": "1d824c98-c4fa-4a84-8a0d-ef238043f69b"
   },
   "outputs": [
    {
     "data": {
      "text/plain": [
       "<matplotlib.legend.Legend at 0x7fce2da0c4c0>"
      ]
     },
     "execution_count": 20,
     "metadata": {},
     "output_type": "execute_result"
    },
    {
     "data": {
      "image/png": "[encoded data removed]",
      "text/plain": [
       "<Figure size 640x480 with 1 Axes>"
      ]
     },
     "metadata": {},
     "output_type": "display_data"
    }
   ],
   "source": [
    "import matplotlib.pyplot as plt\n",
    "plt1 = plt.plot(x , y , label='function')\n",
    "plt.plot(x[:-1] , yprime , '-.' , color = 'red' , label = 'diff-1')\n",
    "plt.plot(x[:-1] , yprime2 , '-' , color = 'blue' , label = 'diff-2' , alpha=0.20 , linewidth=2 )\n",
    "\n",
    "plt.legend()"
   ]
  },
  {
   "cell_type": "markdown",
   "metadata": {},
   "source": [
    "کتابخانه‌ی <code>matplotlib.pyplot</code> برای رسم نمودارها وارد می‌شود.\n",
    "\n",
    "نمودار تابع اصلی (<code>y = sin(x)</code>) رسم می‌شود. برچسب <code>'function'</code> برای این نمودار تعیین می‌شود.\n",
    "\n",
    "نمودار مشتق محاسبه‌شده به روش تفاضل محدود (<code>yprime</code>) رسم می‌شود. این نمودار با خط چین  (<code>'-.'</code>) و رنگ قرمز (<code>color='red'</code>) نمایش داده می‌شود.\n",
    "\n",
    "نمودار مشتق محاسبه‌شده با استفاده از توابع NumPy (<code>yprime2</code>) رسم می‌شود. این نمودار با خط پیوسته  (<code>'-'</code>) و رنگ آبی (<code>color='blue'</code>) نمایش داده می‌شود. همچنین شفافیت (<code>alpha=0.20</code>) و ضخامت خط (<code>linewidth=2</code>) تنظیم شده‌اند.\n",
    "\n",
    "یک راهنمای نمودار (legend) اضافه می‌شود تا برچسب‌های هر نمودار نمایش داده شوند.\n",
    "\n",
    "---"
   ]
  },
  {
   "cell_type": "markdown",
   "metadata": {},
   "source": [
    "## امکانات بیشتر در NumPy\n",
    "\n",
    "\n",
    "```{admonition}  محاسبه‌ی مشتق با استفاده از <code>np.gradient</code>:\n",
    "\n",
    "NumPy تابع <code>[np.gradient](https://numpy.org/doc/stable/reference/generated/numpy.gradient.html)</code> را ارائه می‌دهد که می‌تواند مشتق یک تابع را به صورت خودکار محاسبه کند. این تابع برای محاسبه‌ی مشتق در چندین بعد نیز کاربرد دارد.\n",
    "```\n",
    "\n",
    "\n",
    "```{admonition} بهینه‌سازی محاسبات با <code>np.vectorize</code>:\n",
    "\n",
    "اگر تابعی دارید که به صورت برداری عمل نمی‌کند، می‌توانید از <code>[np.vectorize](https://numpy.org/doc/stable/reference/generated/numpy.vectorize.html#numpy-vectorize)</code> استفاده کنید تا آن تابع را به صورت برداری اجرا کنید.\n",
    "\n",
    "```\n"
   ]
  },
  {
   "cell_type": "markdown",
   "metadata": {},
   "source": [
    "## سوالات\n",
    "\n",
    "### سوال ۱: روش‌های دقیق‌تر مشتق‌گیری\n",
    "روش تفاضل محدود (Finite Difference) که در این کد استفاده شده است، یک روش ساده برای محاسبه‌ی مشتق است. آیا می‌توانید روش‌های دقیق‌تری مانند <strong>تفاضل مرکزی</strong> (Central Difference) یا <strong>تفاضل پس‌رو و پیش‌رو</strong> (Backward/Forward Difference) را پیاده‌سازی کنید؟ مزایا و معایب هر روش چیست؟\n",
    "\n",
    "\n",
    "### سوال ۲: خطای روش‌های مشتق‌گیری\n",
    "در روش تفاضل محدود، خطای محاسباتی به دلیل گسسته‌سازی (Discretization) وجود دارد. چگونه می‌توانید خطای این روش را محاسبه و تحلیل کنید؟ آیا می‌توانید با تغییر گام (<code>step size</code>) در آرایه‌ی <code>x</code>، تأثیر آن بر دقت مشتق‌گیری را بررسی کنید؟\n",
    "\n",
    "### سوال ۳: مشتق تابع چند متغیره\n",
    "تابع\n",
    " $f(x,y) = sin(x\\times y)$ \n",
    " را در بازه‌ی \n",
    " $-\\pi/2 < x < \\pi/2 , -\\pi/2 < y < \\pi/2$\n",
    " تشکیل دهید.\n",
    " با استفاده از <code>[np.gradient](https://numpy.org/doc/stable/reference/generated/numpy.gradient.html)</code>: \n",
    " \n",
    " - مشتق این تابع نسبت به $x$ را در $y=\\pi/4$ رسم کنید.\n",
    " - مشتق دوم این تابع نسبت به $x$ و $y$ را رسم کنید."
   ]
  },
  {
   "cell_type": "markdown",
   "metadata": {
    "id": "wEM0WTEYlGKa"
   },
   "source": [
    "## جمع‌بندی\n",
    "\n",
    "استفاده از آرایه‌ها در برنامه‌نویسی و محاسبات عددی، به ویژه در حوزه‌هایی مانند علم داده، هوش مصنوعی، فیزیک، مهندسی و بسیاری دیگر، امری ضروری است. NumPy با ارائه‌ی ساختار داده‌ای کارآمد و توابع قدرتمند، به یکی از ابزارهای اصلی برای انجام این محاسبات تبدیل شده است. یادگیری و تسلط بر این کتابخانه نه تنها سرعت و دقت محاسبات شما را افزایش می‌دهد، بلکه درک بهتری از مفاهیم پایه‌ای در محاسبات عددی را نیز به شما می‌بخشد.\n",
    "\n",
    "در ادامه، با بررسی دقیق‌تر قابلیت‌های NumPy و نحوه‌ی استفاده از آن، می‌توانید به توانمندی‌های بیشتری در زمینه‌ی پردازش داده‌ها و محاسبات علمی دست یابید.\n",
    "\n",
    "```{note}\n",
    "البته numpy انتهای داستان نیست! \n",
    "گروه‌های مختلف ابزارهای بسیار حرفه‌ای و دقیقی بر مبنای numpy نوشته اند.\n",
    "به عنوان نمونه\n",
    "به پکیج \n",
    "[findiff](https://findiff.readthedocs.io/en/stable/)\n",
    "برای مشتق گیری های پیچیده مراجعه کنید.\n",
    "```"
   ]
  },
  {
   "cell_type": "code",
   "execution_count": null,
   "metadata": {},
   "outputs": [],
   "source": []
  }
 ],
 "metadata": {
  "colab": {
   "provenance": []
  },
  "kernelspec": {
   "display_name": "Python 3 (ipykernel)",
   "language": "python",
   "name": "python3"
  },
  "language_info": {
   "codemirror_mode": {
    "name": "ipython",
    "version": 3
   },
   "file_extension": ".py",
   "mimetype": "text/x-python",
   "name": "python",
   "nbconvert_exporter": "python",
   "pygments_lexer": "ipython3",
   "version": "3.8.10"
  }
 },
 "nbformat": 4,
 "nbformat_minor": 1
}
