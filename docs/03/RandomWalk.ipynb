{
 "cells": [
  {
   "cell_type": "markdown",
   "id": "195844cb",
   "metadata": {},
   "source": [
    "# ول‌گشت"
   ]
  },
  {
   "cell_type": "markdown",
   "id": "d50071d2",
   "metadata": {},
   "source": [
    "ولگشت (Random Walk) یک مدل ریاضی برای توصیف حرکت تصادفی است که در آن یک شیء در هر مرحله به صورت تصادفی در یک یا چند بعد حرکت می‌کند. این مفهوم در فیزیک، زیست‌شناسی، مالی و بسیاری از زمینه‌های دیگر کاربردهای گسترده‌ای دارد. در این بخش، به بررسی اهمیت ولگشت در فیزیک و ارتباط آن با مفاهیم مهمی مانند **قضیه حد مرکزی**، **معادله‌ی انتشار** و **درک خطاها** می‌پردازیم.\n",
    "\n",
    "---\n",
    "\n",
    "## ۱. **ولگشت چیست؟**\n",
    "\n",
    "ولگشت مدلی است که حرکت تصادفی یک ذره یا شیء را توصیف می‌کند. در ساده‌ترین حالت، یک ولگشت یک‌بعدی را در نظر بگیرید:\n",
    "- در هر مرحله، ذره با احتمال مساوی به چپ یا راست حرکت می‌کند.\n",
    "- پس از $ N $ مرحله، موقعیت نهایی ذره مجموع این حرکت‌های تصادفی است.\n",
    "\n",
    "در حالت کلی، ولگشت می‌تواند در دو یا چند بعد نیز تعریف شود. برای مثال، در دو بعد، ذره می‌تواند در چهار جهت (بالا، پایین، چپ، راست) حرکت کند.\n",
    "\n",
    "---\n",
    "\n",
    "## ۲. **اهمیت ولگشت در فیزیک**\n",
    "\n",
    "ولگشت به عنوان یک مدل ساده، درک عمیقی از پدیده‌های فیزیکی پیچیده ارائه می‌دهد. در ادامه، به سه مفهوم مهم مرتبط با ولگشت در فیزیک می‌پردازیم:\n",
    "\n",
    "---\n",
    "\n",
    "### ۱. **قضیه حد مرکزی (Central Limit Theorem)**\n",
    "\n",
    "قضیه حد مرکزی بیان می‌کند که اگر تعداد زیادی متغیر تصادفی مستقل و هم‌توزیع داشته باشیم، توزیع مجموع آن‌ها به توزیع نرمال (گاوسی) نزدیک می‌شود. ولگشت یک مثال کلاسیک از این قضیه است:\n",
    "- در ولگشت، هر قدم یک متغیر تصادفی مستقل است.\n",
    "- پس از $ N $ قدم، موقعیت نهایی ذره مجموع این قدم‌ها است.\n",
    "- بر اساس قضیه حد مرکزی، توزیع موقعیت نهایی ذره به توزیع نرمال نزدیک می‌شود.\n",
    "\n",
    "این موضوع در فیزیک برای تحلیل پدیده‌هایی مانند **حرکت براونی** و **نویز** بسیار مفید است.\n",
    "\n",
    "---\n",
    "\n",
    "### ۲. **معادله‌ی انتشار (Diffusion Equation)**\n",
    "\n",
    "ولگشت به طور مستقیم به معادله‌ی انتشار مرتبط است. معادله‌ی انتشار توصیف می‌کند که چگونه چگالی یک ذره یا ماده در فضا و زمان پخش می‌شود. ارتباط ولگشت با معادله‌ی انتشار به شرح زیر است:\n",
    "- در ولگشت، ذره به صورت تصادفی حرکت می‌کند و موقعیت آن در طول زمان تغییر می‌کند.\n",
    "- اگر تعداد ذرات زیاد باشد، توزیع موقعیت آن‌ها با معادله‌ی انتشار توصیف می‌شود.\n",
    "- معادله‌ی انتشار به صورت زیر نوشته می‌شود:\n",
    "\n",
    "$$\n",
    "\\frac{\\partial \\rho(x, t)}{\\partial t} = D \\frac{\\partial^2 \\rho(x, t)}{\\partial x^2}\n",
    "$$\n",
    "\n",
    "  که در آن $ \\rho(x, t) $ چگالی ذرات در موقعیت $ x $ و زمان $ t $، و $ D $ ضریب انتشار است.\n",
    "\n",
    "این معادله در فیزیک برای توصیف پدیده‌هایی مانند **انتشار گرما**، **انتشار ذرات در سیالات** و **نفوذ مواد** استفاده می‌شود.\n",
    "\n",
    "---\n",
    "\n",
    "### ۳. **درک خطاها (Understanding of Errors)**\n",
    "\n",
    "ولگشت به درک خطاها در اندازه‌گیری‌ها و محاسبات کمک می‌کند. در بسیاری از سیستم‌های فیزیکی، خطاها به صورت تصادفی رفتار می‌کنند و می‌توانند به عنوان یک ولگشت مدل شوند:\n",
    "- خطاها در اندازه‌گیری‌ها می‌توانند به صورت قدم‌های تصادفی در نظر گرفته شوند.\n",
    "- با استفاده از ولگشت، می‌توان توزیع خطاها و تأثیر آن‌ها بر نتایج نهایی را تحلیل کرد.\n",
    "- این موضوع در **آنالیز داده‌ها** و **بهینه‌سازی سیستم‌های اندازه‌گیری** بسیار مفید است.\n",
    "\n",
    "---"
   ]
  },
  {
   "cell_type": "markdown",
   "id": "3597e6dd",
   "metadata": {},
   "source": [
    "\n",
    "## ۳. **تاریخچه‌ی مطالعه ولگشت**\n",
    "\n",
    "مطالعه ولگشت به قرن نوزدهم بازمی‌گردد، زمانی که دانشمندان شروع به بررسی حرکت تصادفی ذرات کردند. یکی از اولین موارد ثبت‌شده، کارهای **رابرت براون (Robert Brown)** در سال ۱۸۲۷ بود:\n",
    "- براون، گیاه‌شناس اسکاتلندی، حرکت نامنظم ذرات گرده در آب را مشاهده کرد.\n",
    "- این پدیده، که امروزه به نام **حرکت براونی (Brownian Motion)** شناخته می‌شود، یکی از اولین نمونه‌های ولگشت در طبیعت بود.\n",
    "\n",
    "---\n",
    "\n",
    "### **توسعه ریاضی ولگشت**\n",
    "\n",
    "در اواخر قرن نوزدهم و اوایل قرن بیستم، ریاضیدانان و فیزیکدانان شروع به فرمول‌بندی ریاضی ولگشت کردند:\n",
    "\n",
    "#### الف) **کارهای کارل پیرسون (Karl Pearson)**\n",
    "- در سال ۱۹۰۵، کارل پیرسون، آماردان انگلیسی، مفهوم ولگشت را به صورت ریاضی تعریف کرد.\n",
    "- او از ولگشت برای مدل‌سازی گسترش جمعیت‌ها و بیماری‌ها استفاده کرد.\n",
    "\n",
    "#### ب) **آلبرت اینشتین (Albert Einstein)**\n",
    "- در سال ۱۹۰۵، اینشتین در مقاله‌ای مشهور، حرکت براونی را به صورت ریاضی توصیف کرد.\n",
    "- او نشان داد که حرکت براونی نتیجه برخوردهای تصادفی مولکول‌های آب با ذرات گرده است.\n",
    "- کار اینشتین تأیید مستقیمی از وجود اتم‌ها و مولکول‌ها ارائه داد.\n",
    "\n",
    "#### ج) **ماریان اسمولوخوفسکی (Marian Smoluchowski)**\n",
    "- همزمان با اینشتین، اسمولوخوفسکی نیز به طور مستقل حرکت براونی را مطالعه کرد.\n",
    "- او معادلاتی برای توصیف رفتار آماری ذرات در حال حرکت تصادفی ارائه داد.\n",
    "\n",
    "---\n",
    "\n",
    "### **ولگشت در قرن بیستم**\n",
    "\n",
    "در قرن بیستم، مطالعه ولگشت به حوزه‌های جدیدی گسترش یافت:\n",
    "\n",
    "#### الف) **نوربرت وینر (Norbert Wiener)**\n",
    "- وینر، ریاضیدان آمریکایی، در دهه ۱۹۲۰ فرمول‌بندی دقیقی از حرکت براونی ارائه داد.\n",
    "- او فرآیند وینر (Wiener Process) را تعریف کرد که امروزه به عنوان یکی از پایه‌های ریاضی ولگشت شناخته می‌شود.\n",
    "\n",
    "#### ب) **پل اردش (Paul Erdős) و مارک کاک (Mark Kac)**\n",
    "- در دهه ۱۹۴۰، اردش و کاک از ولگشت برای حل مسائل ترکیبیاتی و نظریه احتمالات استفاده کردند.\n",
    "- کار آن‌ها به توسعه نظریه‌های پیشرفته‌تر در ریاضیات منجر شد.\n",
    "\n",
    "#### ج) **ولگشت در مالی**\n",
    "- در دهه ۱۹۷۰، ولگشت به عنوان مدلی برای تحلیل بازارهای مالی مورد استفاده قرار گرفت.\n",
    "- نظریه‌ی **بازار کارا (Efficient Market Hypothesis)** از مفاهیم ولگشت برای توصیف رفتار تصادفی قیمت‌ها استفاده کرد.\n",
    "\n",
    "---\n",
    "\n",
    "### **ولگشت در فیزیک مدرن**\n",
    "\n",
    "در فیزیک مدرن، ولگشت به عنوان یک ابزار قدرتمند برای مطالعه سیستم‌های پیچیده استفاده می‌شود:\n",
    "\n",
    "#### الف) **فیزیک آماری**\n",
    "- ولگشت برای مدل‌سازی رفتار ذرات در سیستم‌های آماری مانند گازها و مایعات استفاده می‌شود.\n",
    "- این مفهوم به درک پدیده‌هایی مانند **انتشار (Diffusion)** و **رسانش گرمایی (Thermal Conduction)** کمک می‌کند.\n",
    "\n",
    "#### ب) **فیزیک ماده چگال**\n",
    "- در سیستم‌های ماده چگال، ولگشت برای توصیف حرکت الکترون‌ها و فونون‌ها استفاده می‌شود.\n",
    "- این موضوع در طراحی مواد جدید و نانوذرات اهمیت زیادی دارد.\n",
    "\n",
    "#### ج) **بیوفیزیک**\n",
    "- ولگشت در مطالعه حرکت مولکول‌ها در سلول‌ها و فرآیندهای زیستی مانند **انتشار پروتئین‌ها** و **حرکت باکتری‌ها** استفاده می‌شود.\n",
    "\n",
    "---\n",
    "\n"
   ]
  },
  {
   "cell_type": "markdown",
   "id": "73150a8f",
   "metadata": {},
   "source": [
    "## *محاسبات توزیع مکان نهایی ولگشت*\n",
    "\n",
    "در یک ولگشت یک‌بعدی، ذره در هر قدم با احتمال $ p $ به راست و با احتمال $ q = 1 - p $ به چپ حرکت می‌کند. اگر $ N $ قدم بردارد، مکان نهایی ذره را می‌توان با استفاده از **توزیع دو جمله‌ای** مدل‌سازی کرد. در این بخش، میانگین و انحراف معیار مکان نهایی ذره را برای حالت کلی $ p $ محاسبه می‌کنیم.\n",
    "\n",
    "---\n",
    "\n",
    "### ۱. **مدل‌سازی ولگشت با توزیع دو جمله‌ای**\n",
    "\n",
    "فرض کنید:\n",
    "- ذره در هر قدم با احتمال $ p $ به راست و با احتمال $ q = 1 - p $ به چپ حرکت کند.\n",
    "- اگر ذره $ k $ بار به راست و $ N - k $ بار به چپ حرکت کند، مکان نهایی ذره به صورت زیر است:\n",
    "  \n",
    "$$\n",
    "X = k - (N - k) = 2k - N\n",
    "$$\n",
    "\n",
    "  که در آن $ k $ تعداد قدم‌های به راست است.\n",
    "\n",
    "از آن‌جا که $ k $ از توزیع دو جمله‌ای پیروی می‌کند، داریم:\n",
    "\n",
    "$$\n",
    "k \\sim \\text{Binomial}(N, p)\n",
    "$$\n",
    "\n",
    "---\n",
    "\n",
    "### ۲. **محاسبه میانگین مکان نهایی**\n",
    "\n",
    "میانگین تعداد قدم‌های به راست ($ k $) در توزیع دو جمله‌ای به صورت زیر است:\n",
    "\n",
    "$$\n",
    "E[k] = N \\cdot p\n",
    "$$\n",
    "\n",
    "حال، میانگین مکان نهایی ($ X $) را محاسبه می‌کنیم:\n",
    "\n",
    "$$\n",
    "E[X] = E[2k - N] = 2E[k] - N = 2 \\cdot N \\cdot p - N = N(2p - 1)\n",
    "$$\n",
    "\n",
    "بنابراین، میانگین مکان نهایی ذره پس از $ N $ قدم به صورت زیر است:\n",
    "\n",
    "$$\n",
    "E[X] = N(2p - 1)\n",
    "$$\n",
    "\n",
    "---\n",
    "\n",
    "### ۳. **محاسبه واریانس مکان نهایی**\n",
    "\n",
    "واریانس تعداد قدم‌های به راست ($ k $) در توزیع دو جمله‌ای به صورت زیر است:\n",
    "\n",
    "$$\n",
    "\\text{Var}(k) = N \\cdot p \\cdot q\n",
    "$$\n",
    "\n",
    "که در آن $ q = 1 - p $.\n",
    "\n",
    "حال، واریانس مکان نهایی ($ X $) را محاسبه می‌کنیم:\n",
    "\n",
    "$$\n",
    "\\text{Var}(X) = \\text{Var}(2k - N) = 4 \\cdot \\text{Var}(k) = 4 \\cdot N \\cdot p \\cdot q\n",
    "$$\n",
    "\n",
    "بنابراین، واریانس مکان نهایی ذره پس از $ N $ قدم به صورت زیر است:\n",
    "\n",
    "$$\n",
    "\\text{Var}(X) = 4N p q\n",
    "$$\n",
    "\n",
    "---\n",
    "\n",
    "### ۴. **محاسبه انحراف معیار مکان نهایی**\n",
    "\n",
    "انحراف معیار مکان نهایی ($ X $) به صورت زیر محاسبه می‌شود:\n",
    "\n",
    "$$\n",
    "\\sigma_X = \\sqrt{\\text{Var}(X)} = \\sqrt{4N p q} = 2 \\sqrt{N p q}\n",
    "$$\n",
    "\n",
    "---\n",
    "\n",
    "### ۵. **جمع‌بندی**\n",
    "\n",
    "- **میانگین مکان نهایی**: \n",
    "  $$\n",
    "  E[X] = N(2p - 1)\n",
    "  $$\n",
    "\n",
    "- **واریانس مکان نهایی**:\n",
    "  \n",
    "  $$\n",
    "  \\text{Var}(X) = 4N p q\n",
    "  $$\n",
    "\n",
    "- **انحراف معیار مکان نهایی**:\n",
    "  \n",
    "  $$\n",
    "  \\sigma_X = 2 \\sqrt{N p q}\n",
    "  $$\n",
    "\n",
    "\n",
    "### تفسیر نتایج:\n",
    "- **میانگین مکان نهایی**: اگر $ p > \\frac{1}{2} $ باشد، میانگین مکان نهایی مثبت است (ذره به سمت راست حرکت می‌کند). اگر $ p < \\frac{1}{2} $ باشد، میانگین مکان نهایی منفی است (ذره به سمت چپ حرکت می‌کند). اگر $ p = \\frac{1}{2} $ باشد، میانگین مکان نهایی صفر است.\n",
    "- **انحراف معیار**: انحراف معیار مکان نهایی با $ \\sqrt{N} $ افزایش می‌یابد و به $ p $ و $ q $ وابسته است. هرچه $ p $ به $ \\frac{1}{2} $ نزدیک‌تر باشد، انحراف معیار بزرگ‌تر می‌شود.\n",
    "\n",
    "\n",
    "## *پیاده سازی*\n",
    "\n",
    "    در ابتدا مسئله‌ی ولگشت با یک تابع به صورت کامل حل شده و سپس به وسیله‌ی \n",
    "    numpy\n",
    "    با یک روش سریعتر مدل سازی کرده‌ایم. \n",
    "    سپس تابعیت میانگین و انحراف از معیار با تعداد قدمها و پارامترهای دیگر مطالعه شده‌اند.\n"
   ]
  },
  {
   "cell_type": "code",
   "execution_count": 24,
   "id": "f59d439e-1997-4e26-8da9-da231266a709",
   "metadata": {},
   "outputs": [],
   "source": [
    "import numpy as np\n",
    "import matplotlib.pyplot as plt"
   ]
  },
  {
   "cell_type": "code",
   "execution_count": 25,
   "id": "43a29197-58f8-4fd7-976d-2191350b7225",
   "metadata": {},
   "outputs": [],
   "source": [
    "p = 0.5 # احتمال رفتن به سمت راست\n",
    "q = 1.0 - p # احتمال رفتن به سمت چپ\n",
    "l = 1 # طول یک قدم\n",
    "N = 10000 # تعداد قدم‌ها"
   ]
  },
  {
   "cell_type": "markdown",
   "id": "e52c64c0",
   "metadata": {},
   "source": [
    "### پیاده سازی با استفاده از آرایه"
   ]
  },
  {
   "cell_type": "code",
   "execution_count": 30,
   "id": "71523e99-c69a-4a07-9e00-e6c6c860df6a",
   "metadata": {},
   "outputs": [
    {
     "data": {
      "application/vnd.jupyter.widget-view+json": {
       "model_id": "ee180f001ab745a28ba2081732708340",
       "version_major": 2,
       "version_minor": 0
      },
      "text/plain": [
       "ولگردها:   0%|          | 0/1000 [00:00<?, ?it/s]"
      ]
     },
     "metadata": {},
     "output_type": "display_data"
    }
   ],
   "source": [
    "from tqdm.notebook import tqdm # نمایش نوار پیشرفت\n",
    "# پیاده سازی ساده\n",
    "import random\n",
    "allXs = []\n",
    "for person in tqdm( range(1000) , desc='ولگردها' , position=0): # تعداد ولگردها\n",
    "    x0 = 0 # موقعیت اولیه   \n",
    "    for s in range(N): # تعداد قدم‌ها\n",
    "        r = random.random() > p # انتخاب یک عدد تصادفی بین 0 و 1\n",
    "        if r:\n",
    "            x0 += l # اگر عدد بزرگتر از p بود به سمت راست حرکت کن\n",
    "        else:\n",
    "            x0 -= l # در غیر این صورت به سمت چپ حرکت کن\n",
    "    allXs.append( x0 ) # ذخیره موقعیت نهایی"
   ]
  },
  {
   "cell_type": "code",
   "execution_count": 27,
   "id": "b69f72a9-a44d-4253-98c5-fdeabef1e5a8",
   "metadata": {},
   "outputs": [
    {
     "data": {
      "text/plain": [
       "<BarContainer object of 28 artists>"
      ]
     },
     "execution_count": 27,
     "metadata": {},
     "output_type": "execute_result"
    },
    {
     "data": {
      "image/png": "[encoded data removed]",
      "text/plain": [
       "<Figure size 640x480 with 1 Axes>"
      ]
     },
     "metadata": {},
     "output_type": "display_data"
    }
   ],
   "source": [
    "hist , bins =np.histogram( allXs , 28 , ( min(allXs) , max(allXs)) )\n",
    "binCenters = []\n",
    "for i in range( len(hist) ):\n",
    "    binCenters.append( (bins[i]+bins[i+1]) / 2 )\n",
    "\n",
    "plt.bar( binCenters , hist )"
   ]
  },
  {
   "cell_type": "markdown",
   "id": "a46f1644",
   "metadata": {},
   "source": [
    "### پیاده سازی با استفاده از کتابخانه‌ی numpy"
   ]
  },
  {
   "cell_type": "code",
   "execution_count": 28,
   "id": "8a1cfeda-aa4c-4ec0-9405-a0f065f112bd",
   "metadata": {},
   "outputs": [],
   "source": [
    "#2nd approach, using numpy\n",
    "def RandomWalk1D( nSteps , nTrials): \n",
    "    allRandoms = np.random.uniform( 0 , 1 , (nTrials , nSteps) ) # a random array for all the steps of all random walks\n",
    "    newRandoms = allRandoms < p # a boolean array for all the steps of all random walks that shows if the person goes to the right or not\n",
    "    finalRandoms = (2*l)*( newRandoms - 0.5 ) # it is important to note that 2*(true-0.5) is equal to 1 and 2*(false-0.5) is equal to -1\n",
    "    allNewxs = np.sum( finalRandoms , 1 ) # sum of all the steps for each random walk\n",
    "    return np.average( allNewxs ) , np.std( allNewxs ) # return the average and standard deviation of the final positions"
   ]
  },
  {
   "cell_type": "code",
   "execution_count": 29,
   "id": "86697f9a-a2ee-4953-b7ca-5aa39845d959",
   "metadata": {},
   "outputs": [
    {
     "data": {
      "application/vnd.jupyter.widget-view+json": {
       "model_id": "24c3e0b80d774fa7bb7d9067b838f3e3",
       "version_major": 2,
       "version_minor": 0
      },
      "text/plain": [
       "steps:   0%|          | 0/10 [00:00<?, ?it/s]"
      ]
     },
     "metadata": {},
     "output_type": "display_data"
    },
    {
     "data": {
      "image/png": "[encoded data removed]",
      "text/plain": [
       "<Figure size 640x480 with 2 Axes>"
      ]
     },
     "metadata": {},
     "output_type": "display_data"
    }
   ],
   "source": [
    "# در این قسمت با فراخوانی تابع تعریف شده در قسمت بالا، میخواهیم تابعیت متوسط و انجراف معیار با تعداد قدمها را بررسی کنیم\n",
    "steps = []\n",
    "avgs = []\n",
    "stds = []\n",
    "for nSteps in tqdm( range(1000 , 100000 , 10000) , desc='steps'): # تعداد قدمها\n",
    "    steps.append( nSteps )\n",
    "    a , s = RandomWalk1D( nSteps , 1000)\n",
    "    avgs.append( a )\n",
    "    stds.append( s )\n",
    "\n",
    "\n",
    "fig, axs = plt.subplots(2)\n",
    "\n",
    "axs[0].scatter(steps,avgs,color='k' )\n",
    "axs[0].set_title='Average'\n",
    "axs[1].scatter(steps,stds,color='g')\n",
    "axs[1].set_title='Standard Deviation'\n",
    "plt.show()"
   ]
  }
 ],
 "metadata": {
  "kernelspec": {
   "display_name": "physcomp",
   "language": "python",
   "name": "python3"
  },
  "language_info": {
   "codemirror_mode": {
    "name": "ipython",
    "version": 3
   },
   "file_extension": ".py",
   "mimetype": "text/x-python",
   "name": "python",
   "nbconvert_exporter": "python",
   "pygments_lexer": "ipython3",
   "version": "3.8.10"
  }
 },
 "nbformat": 4,
 "nbformat_minor": 5
}
