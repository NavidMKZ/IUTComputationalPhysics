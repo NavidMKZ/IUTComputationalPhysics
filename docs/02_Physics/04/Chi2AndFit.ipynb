{
 "cells": [
  {
   "cell_type": "markdown",
   "metadata": {},
   "source": [
    "# برازش\n",
    "<p style=\"color: gray;\">\n",
    "<small>\n",
    "این درس‌نامه با کمک آقای \n",
    "<a href=https://github.com/masih00O>مسیح باقری</a>\n",
    "نوشته شده است.\n",
    "</small>\n",
    "</p>\n",
    "\n",
    "\n",
    "\n",
    "\n",
    "````{dropdown} ویدئوی جلسه\n",
    ":icon: video\n",
    ":open:\n",
    "\n",
    "<div id=\"31607662113\"><script type=\"text/JavaScript\" src=\"https://www.aparat.com/embed/pfji0r0?data[rnddiv]=31607662113&data[responsive]=yes\"></script></div>\n",
    "````\n",
    "\n",
    "\n",
    "## فیت کردن و مفهوم کای‌دو ($ \\chi^2 $)\n",
    "\n",
    "فیت کردن (Fitting) فرآیندی است که در آن سعی می‌کنیم یک مدل تئوری را به داده‌های تجربی تطبیق دهیم. در بسیاری از موارد، مدل تئوری به خوبی شناخته شده است (مثلاً در اینجا مدل گاوسی)، اما مقادیر پارامترهای مدل (مانند میانگین و انحراف معیار) نامعلوم هستند. هدف فیت کردن، پیدا کردن بهترین مقادیر برای این پارامترها است که مدل را به بهترین شکل به داده‌ها نزدیک می‌کند.\n",
    "\n",
    "---\n",
    "\n",
    "### ۱. **مدل تئوری و داده‌های تجربی**\n",
    "\n",
    "در این مثال، مدل تئوری یک تابع گاوسی است:\n",
    "\n",
    "$$\n",
    "f(E; \\mu, \\sigma) = \\exp\\left( -\\frac{(E - \\mu)^2}{2 \\sigma^2} \\right)\n",
    "$$\n",
    "\n",
    "که در آن:\n",
    "- $ E $: متغیر مستقل (مثلاً انرژی).\n",
    "- $ \\mu $: میانگین توزیع گاوسی.\n",
    "- $ \\sigma $: انحراف معیار توزیع گاوسی.\n",
    "\n",
    "داده‌های تجربی نیز به صورت یک تابع گاوسی با نویز (خطا) تولید شده‌اند:\n",
    "\n",
    "$$\n",
    "\\text{data}(E) = f(E; \\mu_{\\text{true}}, \\sigma_{\\text{true}}) + \\text{noise}\n",
    "$$\n",
    "\n",
    "---\n",
    "\n",
    "### ۲. **کای‌دو ($ \\chi^2 $) چیست؟**\n",
    "\n",
    "کای‌دو ($ \\chi^2 $) یک معیار برای اندازه‌گیری اختلاف بین داده‌های تجربی و پیش‌بینی‌های مدل تئوری است. این کمیت به صورت زیر تعریف می‌شود:\n",
    "\n",
    "$$\n",
    "\\chi^2(\\mu, \\sigma) = \\sum_{i} \\left( \\frac{\\text{data}(E_i) - f(E_i; \\mu, \\sigma)}{\\text{error}(E_i)} \\right)^2\n",
    "$$\n",
    "\n",
    "که در آن:\n",
    "- $ \\text{data}(E_i) $: مقدار داده‌ی تجربی در نقطه‌ی $ E_i $.\n",
    "- $ f(E_i; \\mu, \\sigma) $: مقدار پیش‌بینی شده توسط مدل تئوری در نقطه‌ی $ E_i $.\n",
    "- $ \\text{error}(E_i) $: خطای اندازه‌گیری در نقطه‌ی $ E_i $.\n",
    "\n",
    "---\n",
    "\n",
    "### ۳. **فیت کردن با استفاده از $ \\chi^2 $**\n",
    "\n",
    "هدف از فیت کردن، پیدا کردن مقادیر $ \\mu $ و $ \\sigma $ است که $ \\chi^2 $ را کمینه می‌کنند. این کار به صورت زیر انجام می‌شود:\n",
    "\n",
    "#### الف) **محاسبه‌ی $ \\chi^2 $ برای مقادیر مختلف پارامترها**\n",
    "- یک شبکه از مقادیر ممکن برای $ \\mu $ و $ \\sigma $ ایجاد کنید.\n",
    "- برای هر جفت $ (\\mu, \\sigma) $، مقدار $ \\chi^2 $ را محاسبه کنید.\n",
    "\n",
    "#### ب) **یافتن کمینه‌ی $ \\chi^2 $**\n",
    "- مقادیر $ \\mu $ و $ \\sigma $ که کمترین $ \\chi^2 $ را تولید می‌کنند، به عنوان بهترین مقادیر برای پارامترهای مدل در نظر گرفته می‌شوند.\n",
    "\n",
    "---\n",
    "\n",
    "### ۴. **پیاده سازی**\n",
    "\n",
    "در کدی که اجرا کرده‌اید، مراحل زیر انجام شده است:\n",
    "\n",
    "#### الف) **تعریف تابع گاوسی**\n",
    "تابع گاوسی با امکان اضافه کردن نویز تعریف شده است:\n",
    "\n",
    "$$\n",
    "\\text{gaussian}(E, \\mu, \\sigma, \\text{error})\n",
    "$$\n"
   ]
  },
  {
   "cell_type": "code",
   "execution_count": 1,
   "metadata": {},
   "outputs": [],
   "source": [
    "import numpy as np\n",
    "\n",
    "def gaussian(E, mean, sigma, error):\n",
    "    ret = np.exp(-(E - mean)**2 / (2 * sigma**2))\n",
    "    \n",
    "    if error != 0:\n",
    "        errors = np.random.normal(0, error, E.shape)\n",
    "        ret += ret * errors\n",
    "    \n",
    "    return ret"
   ]
  },
  {
   "cell_type": "markdown",
   "metadata": {},
   "source": [
    "___\n",
    "\n",
    "#### ب) **ایجاد شبکه‌ی پارامترها**\n",
    "یک شبکه از مقادیر ممکن برای $ \\mu $ و $ \\sigma $ ایجاد شده است:\n",
    "\n",
    "$$\n",
    "\\mu \\in [-1, 1], \\quad \\sigma \\in [0.1, 2]\n",
    "$$\n",
    "\n",
    "- برای بررسی رفتار توزیع گاوسی در محدوده‌های مختلف پارامترها، از شبکه‌سازی (Meshgrid) استفاده می‌شود.\n",
    "-  این روش به ما امکان می‌دهد تا تمام ترکیبات ممکن از پارامترها را بررسی کنیم.\n",
    "در کد زیر، از تابع np.meshgrid برای ایجاد شبکه‌ای از مقادیر انرژی (E)، میانگین‌ها (means) و انحراف معیارها (sigmas) استفاده شده است."
   ]
  },
  {
   "cell_type": "code",
   "execution_count": 2,
   "metadata": {
    "vscode": {
     "languageId": "powershell"
    }
   },
   "outputs": [],
   "source": [
    "E = np.linspace(-5, 5, 20)\n",
    "means = np.linspace(-1, 1, 50)\n",
    "sigmas = np.linspace(0.1, 2, 100)\n",
    "\n",
    "E_, means_, sigmas_ = np.meshgrid(E, means, sigmas)\n",
    "allYs = gaussian(E_, means_, sigmas_, 0)"
   ]
  },
  {
   "cell_type": "markdown",
   "metadata": {},
   "source": [
    "- E_, means_, sigmas_: شبکه‌های سه‌بعدی از مقادیر انرژی، میانگین و انحراف معیار\n",
    "- allYs: مقادیر توزیع گاوسی برای تمام ترکیبات ممکن"
   ]
  },
  {
   "cell_type": "markdown",
   "metadata": {},
   "source": [
    "---\n",
    "\n",
    "#### ج) **محاسبه‌ی $ \\chi^2 $**\n",
    "\n",
    "مقدار $ \\chi^2 $ برای هر جفت $ (\\mu, \\sigma) $ محاسبه شده است:\n",
    "\n",
    "$$\n",
    "\\chi^2 = \\sum_{i} (\\text{data}(E_i) - f(E_i; \\mu, \\sigma))^2\n",
    "$$\n"
   ]
  },
  {
   "cell_type": "code",
   "execution_count": 3,
   "metadata": {
    "vscode": {
     "languageId": "powershell"
    }
   },
   "outputs": [],
   "source": [
    "data = gaussian(E, 0, 1, 0.1)\n",
    "experiment_new = np.repeat(data[np.newaxis, :, np.newaxis], means.size, axis=0)\n",
    "experiment_new = np.repeat(experiment_new, sigmas.size, axis=2)\n",
    "\n",
    "chi2 = np.sum((experiment_new - allYs)**2, 1)"
   ]
  },
  {
   "cell_type": "markdown",
   "metadata": {
    "vscode": {
     "languageId": "powershell"
    }
   },
   "source": [
    "به موارد زیر در کد بالا باید دقت کنید:\n",
    "\n",
    "- استفاده از متد `numpy.repeat` برای ساختن شبکه ای سه بعدی از داده‌ها\n",
    "- محاسبه‌ی $\\chi^2$ با جمع زدن روی محور شماره‌ی یک : یعنی مقادیر x\n",
    "\n",
    "#### د) **پیدا کردن کمینه**\n",
    "\n",
    "در قدم اول مقادیر $\\chi^2$ را رسم می‌کنیم تا بتوانیم تغییرات آن برحسب پارامترها را ببینیم.\n",
    " برای نمایش نتایج، از نمودار دو بعدی با رنگ‌های لگاریتمی استفاده شده است\n"
   ]
  },
  {
   "cell_type": "code",
   "execution_count": 5,
   "metadata": {
    "vscode": {
     "languageId": "powershell"
    }
   },
   "outputs": [
    {
     "data": {
      "image/png": "[encoded data removed]",
      "text/plain": [
       "<Figure size 576x432 with 2 Axes>"
      ]
     },
     "metadata": {
      "needs_background": "light"
     },
     "output_type": "display_data"
    }
   ],
   "source": [
    "import matplotlib.pyplot as plt\n",
    "from matplotlib.colors import LogNorm\n",
    "\n",
    "\n",
    "chi2[chi2 > 5] = 5 #برای اجتناب از کشیده شدن مقادیر بسیار زیاد در پلات\n",
    "plt.figure(figsize=(8, 6))\n",
    "plt.imshow(np.transpose(chi2), aspect='auto', origin='lower',\n",
    "           extent=[means[0], means[-1], sigmas[0], sigmas[-1]],\n",
    "           cmap='viridis', norm=LogNorm())\n",
    "plt.colorbar(label='Chi2 Value')\n",
    "plt.xlabel('Mean')\n",
    "plt.ylabel('Sigma')\n",
    "plt.show()"
   ]
  },
  {
   "cell_type": "markdown",
   "metadata": {},
   "source": [
    "دقت کنید که در شکل بالا، هر رنگ نشان دهنده‌ی مقدار $\\chi^2$ به ازاء مقادیر پارامترهاست. واضح است که این مقدار در نزدیکی نقطه‌ی \n",
    "$\\mu =0 , \\sigma =1$\n",
    "کمیته می‌شود.\n",
    "\n",
    "برای پیدا کردن دقیق نقطه‌ی کمینه، می‌توانیم از کد زیر کمک بگیریم:"
   ]
  },
  {
   "cell_type": "code",
   "execution_count": 26,
   "metadata": {},
   "outputs": [
    {
     "name": "stdout",
     "output_type": "stream",
     "text": [
      "χ² is minimized at μ=0.02 and σ=1.02\n"
     ]
    }
   ],
   "source": [
    "min_args = np.unravel_index( np.argmin(chi2) , chi2.shape )\n",
    "print( f'χ² is minimized at μ={means[min_args[0]]:.2f} and σ={sigmas[min_args[1]]:.2f}' )"
   ]
  },
  {
   "cell_type": "markdown",
   "metadata": {},
   "source": [
    "### مشتقات $\\chi^2$\n",
    "\n",
    "#### مشتق اول\n",
    "بدیهی است که مشتق اول تابع $\\chi^2$ در نقطه‌ی کمینه صفر است.\n",
    "\n",
    "#### مشتقات دوم\n",
    "\n",
    "اگر تابع $\\chi^2$ را بر حسب هر کدام از متغیر ها رسم کنیم، اطلاعات خوبی را می‌توانیم ملاحظه کنیم:"
   ]
  },
  {
   "cell_type": "code",
   "execution_count": 52,
   "metadata": {},
   "outputs": [
    {
     "data": {
      "image/png": "[encoded data removed]",
      "text/plain": [
       "<Figure size 864x432 with 2 Axes>"
      ]
     },
     "metadata": {
      "needs_background": "light"
     },
     "output_type": "display_data"
    }
   ],
   "source": [
    "fig, (ax0, ax1) = plt.subplots(1, 2, figsize=(12, 6))\n",
    "\n",
    "\n",
    "minchi2 = np.min(chi2[ : , min_args[1] ])\n",
    "ax0.plot(means , chi2[ : , min_args[1] ] - minchi2 )\n",
    "ax0.set_title(r\"$\\chi^2$ vs Means\")\n",
    "ax0.set_xlabel(r\"$\\mu$\")\n",
    "ax0.set_ylabel(r\"$\\chi^2$\")\n",
    "ax0.axhline(1 , color='red', linestyle='--' , alpha=0.8)\n",
    "ax0.axhline(0 , color='red', linestyle='--' , alpha=0.3)\n",
    "\n",
    "intersects = means[ np.argsort(np.abs(chi2[ : , min_args[1] ] - 1- minchi2 ))[[0,1]] ]\n",
    "ax0.axvline( intersects[0]  , ymax=1./np.max(chi2[: , min_args[1]  ]) , color='green', linestyle='--' , alpha=0.8)\n",
    "ax0.axvline( intersects[1]  , ymax=1./np.max(chi2[: , min_args[1]  ]) , color='green', linestyle='--', alpha=0.8)\n",
    "\n",
    "minchi2 = np.min(chi2[ min_args[0] , : ])\n",
    "ax1.plot(sigmas , chi2[ min_args[0] , : ] - minchi2)\n",
    "ax1.set_title(r\"$\\chi^2$ vs Sigmas\")\n",
    "ax1.set_xlabel(r\"$\\sigma$\")\n",
    "ax1.set_ylabel(r\"$\\chi^2$\")\n",
    "ax1.axhline(1 , color='red', linestyle='--', alpha=0.8)\n",
    "ax1.axhline(0 , color='red', linestyle='--' , alpha=0.3)\n",
    "\n",
    "intersects = sigmas[ np.argsort(np.abs(chi2[ min_args[0] , : ] - 1 - minchi2 ))[[0,1]] ]\n",
    "ax1.axvline( intersects[0]  , ymax=1./np.max(chi2[ min_args[0] , : ]) , color='green', linestyle='--', alpha=0.8)\n",
    "ax1.axvline( intersects[1]  , ymax=1./np.max(chi2[ min_args[0] , : ]) , color='green', linestyle='--', alpha=0.8)\n",
    "\n",
    "plt.tight_layout()\n",
    "plt.show()"
   ]
  },
  {
   "cell_type": "markdown",
   "metadata": {},
   "source": [
    "همانطور که در شکل های بالا نشان داده شده، مقادیری از پارامتر ها که مقدار $\\chi^2$ یک واحد بیشتر از مقدار کمینه می‌شود، می‌تواند نشانه‌ای از میزان خطا و دقت اندازه‌گیری‌های ما باشد.\n",
    "\n",
    "##### مشتقات دوم و ماتریس Hessian\n",
    "\n",
    "برای تحلیل دقیق‌تر رفتار تابع χ² در اطراف نقطه کمینه، از مشتقات دوم استفاده می‌کنیم. ماتریس Hessian که از مشتقات دوم تابع χ² نسبت به پارامترهای مدل تشکیل شده است، به صورت زیر تعریف می‌شود:\n",
    "\n",
    "$$\n",
    "H_{ij} = \\frac{\\partial^2 \\chi^2}{\\partial \\theta_i \\partial \\theta_j}\n",
    "$$\n",
    "\n",
    "ماتریس Hessian اطلاعاتی درباره انحنا و شکل تابع χ² در اطراف نقطه کمینه به ما می‌دهد. اگر ماتریس Hessian مثبت‌معین باشد، نقطه کمینه یک نقطه کمینه محلی است.\n",
    "\n",
    "##### ماتریس کوواریانس\n",
    "\n",
    "ماتریس کوواریانس پارامترهای مدل از معکوس ماتریس Hessian به دست می‌آید:\n",
    "\n",
    "$$\n",
    "C = H^{-1}\n",
    "$$\n",
    "\n",
    "ماتریس کوواریانس اطلاعاتی درباره عدم قطعیت پارامترهای مدل به ما می‌دهد. عناصر قطر اصلی این ماتریس، واریانس پارامترها و عناصر خارج از قطر، کوواریانس بین پارامترها را نشان می‌دهند.\n",
    "\n",
    "\n",
    "\n",
    "#### مقدار $\\chi^2$\n",
    "\n",
    "تا کنون فهمیده ایم که مقادیری از پارامتر که $\\chi^2$ در آن کمینه می‌شود، و مشتقات تابع $\\chi^2$ در آن نقطه چه اهمیتی دارند.\n",
    "\n",
    "اما سوال بسیار مهم این است که مقدار کمینه‌ی $\\chi^2$ نیز آیا معنای خاصی دارد. \n",
    "طبیعی است که هرچه مقدار $\\chi^2$ کمتر باشد، نشان از فیت بهتری می‌دهد. ما انتظار داریم در بهترین حالت این مقدار صفر شود (یعنی تمام مقادیر آزمایش منطبق با پیش بینی تئوری باشد). ولی آیا این انتظار صحیح است؟\n",
    "\n",
    "برای این منظور لازم است با مفهوم توزیع $\\chi^2$ آشنا شویم"
   ]
  },
  {
   "cell_type": "markdown",
   "metadata": {},
   "source": [
    "````{dropdown} ویدئوی جلسه\n",
    ":icon: video\n",
    ":open:\n",
    "\n",
    "<div id=\"88839397053\"><script type=\"text/JavaScript\" src=\"https://www.aparat.com/embed/xlfz2mw?data[rnddiv]=88839397053&data[responsive]=yes\"></script></div>\n",
    "````\n",
    "\n",
    "\n",
    "## توزیع کای-دو (Chi-Squared Distribution)\n",
    "\n",
    "توزیع کای-دو (χ²) یکی از توزیع‌های احتمال مهم در آمار است که معمولاً در آزمون‌های آماری و تحلیل داده‌ها استفاده می‌شود. این توزیع به طور خاص در مواردی کاربرد دارد که بخواهیم مجموع مربعات متغیرهای تصادفی مستقل و استاندارد (با توزیع نرمال استاندارد) را بررسی کنیم.\n",
    "\n",
    "### تعریف ساده\n",
    "\n",
    "اگر $ Z_1, Z_2, \\dots, Z_k $ متغیرهای تصادفی مستقل و با توزیع نرمال استاندارد (یعنی با میانگین صفر و واریانس یک) باشند، آنگاه مجموع مربعات این متغیرها از توزیع کای-دو با $ k $ درجه آزادی پیروی می‌کند:\n",
    "\n",
    "$$\n",
    "X = Z_1^2 + Z_2^2 + \\dots + Z_k^2\n",
    "$$\n",
    "\n",
    "در اینجا، $ X $ یک متغیر تصادفی با توزیع کای-دو و $ k $ درجه آزادی است. به عبارت دیگر، $ X \\sim \\chi^2(k) $.\n",
    "\n",
    "### ویژگی‌های توزیع کای-دو\n",
    "\n",
    "1. **درجه آزادی (Degrees of Freedom):**  \n",
    "   تعداد درجات آزادی ($ k $) نشان‌دهنده تعداد متغیرهای مستقل در مجموع مربعات است. هرچه درجات آزادی بیشتر باشد، توزیع کای-دو به توزیع نرمال نزدیک‌تر می‌شود.\n",
    "\n",
    "2. **شکل توزیع:**  \n",
    "   توزیع کای-دو یک توزیع نامتقارن و مثبت است (یعنی فقط مقادیر مثبت می‌گیرد). شکل توزیع به تعداد درجات آزادی بستگی دارد:\n",
    "   - برای $ k = 1 $: توزیع بسیار کشیده و نامتقارن است.\n",
    "   - با افزایش $ k $: توزیع متقارن‌تر و شبیه به توزیع نرمال می‌شود.\n",
    "\n",
    "3. **میانگین و واریانس:**  \n",
    "   - میانگین توزیع کای-دو با $ k $ درجه آزادی برابر است با $ k $.\n",
    "   - واریانس آن برابر است با $ 2k $.\n",
    "\n",
    "### کاربردهای توزیع کای-دو\n",
    "\n",
    "1. **آزمون نیکویی برازش (Goodness of Fit Test):**  \n",
    "   برای بررسی اینکه آیا داده‌های مشاهده‌شده با یک توزیع نظری خاص سازگار هستند یا خیر.\n",
    "\n",
    "2. **آزمون استقلال (Test of Independence):**  \n",
    "   برای بررسی استقلال بین دو متغیر طبقه‌بندی‌شده در جدول توافقی.\n",
    "\n",
    "3. **تحلیل واریانس (ANOVA):**  \n",
    "   برای مقایسه واریانس بین گروه‌های مختلف.\n",
    "\n",
    "4. **برآورد فاصله اطمینان برای واریانس:**  \n",
    "   در تحلیل داده‌ها، از توزیع کای-دو برای محاسبه فاصله اطمینان واریانس جامعه استفاده می‌شود.\n",
    "\n",
    "### مثال ساده\n",
    "\n",
    "فرض کنید ۵ متغیر تصادفی مستقل با توزیع نرمال استاندارد داریم ($ Z_1, Z_2, Z_3, Z_4, Z_5 $). اگر مجموع مربعات این متغیرها را محاسبه کنیم:\n",
    "\n",
    "$$\n",
    "X = Z_1^2 + Z_2^2 + Z_3^2 + Z_4^2 + Z_5^2\n",
    "$$\n",
    "\n",
    "آنگاه $ X $ از توزیع کای-دو با ۵ درجه آزادی پیروی می‌کند ($ X \\sim \\chi^2(5) $).\n",
    "\n",
    "### آزمون نیکویی برازش\n",
    "\n",
    "با توجه به اینکه مقدار $\\chi^2$ که برای فیت آن را کمینه کرده ایم از شکل مجموع مربعات اعداد تصادفی است، توزیع مقدار آن نیز از توزیع $\\chi^2$ تبعیت می‌کند. البته تعداد درجات آزادی برابر است با تعداد نقاطی که در برازش استفاده کرده‌ایم منهای تعداد پارمترهای تابع.\n",
    "\n",
    "با مقایسه کردن مقدار کمینه‌ی $\\chi^2$ با توزیع مورد انتظار، می‌توانیم به راحتی احتمال خوب بودن برازش را تشخیص دهیم.\n",
    "\n",
    "می‌توان دید که محتمل ترین مقدار برای $\\chi^2$ عملا برابر با تعداد درجات آزادی آن می‌باشد.\n",
    "بنابراین اگر یک متغیر جدید به نام $\\chi^2$ نرمال شده به شکل زیر تعریف کنیم:\n",
    "\n",
    "$$\n",
    "\\chi^2_{\\text{normalized}} = \\dfrac{\\chi^2}{N}\n",
    "$$\n",
    "\n",
    "انتظار داریم در بیشتر مواقع مقدار آن نزدیک به یک باشد.\n",
    "\n",
    "### شکل توزیع $\\chi^2$\n",
    "شکل این توزیع در پایتون در کتابخانه `scipy` می‌توان به دست آورد"
   ]
  },
  {
   "cell_type": "code",
   "execution_count": 61,
   "metadata": {},
   "outputs": [
    {
     "data": {
      "image/png": "[encoded data removed]",
      "text/plain": [
       "<Figure size 432x288 with 1 Axes>"
      ]
     },
     "metadata": {
      "needs_background": "light"
     },
     "output_type": "display_data"
    }
   ],
   "source": [
    "import numpy as np\n",
    "from scipy.stats import chi2\n",
    "import matplotlib.pyplot as plt\n",
    "fig, ax = plt.subplots(1, 1)\n",
    "\n",
    "for df in range(5 , 50 , 5):\n",
    "    x = np.linspace(chi2.ppf(0.01, df),\n",
    "                    chi2.ppf(0.99, df), 100)\n",
    "    ax.plot(x, chi2.pdf(x, df),\n",
    "        color=plt.colormaps['hsv'](df*2) , alpha=0.6, label=f'n_dof = {df}')\n",
    "    \n",
    "plt.legend()\n",
    "plt.show()"
   ]
  },
  {
   "cell_type": "markdown",
   "metadata": {},
   "source": [
    "___"
   ]
  },
  {
   "cell_type": "markdown",
   "metadata": {
    "vscode": {
     "languageId": "powershell"
    }
   },
   "source": [
    "## تابع درست‌نمایی (Likelihood Function)\n",
    "تابع درست‌نمایی یکی از مفاهیم کلیدی در آمار است که برای یافتن بهترین پارامترهای مدل استفاده می‌شود.\n",
    "  \n",
    "تابع درست‌نمایی، احتمال مشاهده داده‌ها را با توجه به پارامترهای مدل بیان می‌کند. برای داده‌های مستقل با توزیع نرمال، تابع درست‌نمایی به صورت زیر تعریف می‌شود:\n",
    "\n",
    "$$ \\mathcal{L}(\\vec{\\theta}) = \\prod_{i=1}^N P(y_{i} | {\\vec{\\theta}}) $$\n",
    "\n",
    "در اینجا احتمال شرطی P نشان دهنده‌ی احتمال مشاهده‌ی مقدار $y_i$ در صورت درست بودن مقادیر $\\vec{\\theta}$ می‌باشد. بدیهی است که این تعریف امکان وارد کردن هر گونه توزیع احتمالاتی را از سمت نظریه و تئوری برای سنجیدن آزمایش به ما می‌دهد. به طور خاص اگر این احتمال به شکل تابع زنگوله ای باشد خواهیم داشت:\n",
    "\n",
    "$$ \\mathcal{L}(\\theta) = \\prod_{i=1}^N \\frac{1}{\\sqrt{2\\pi\\sigma_i^2}} \\exp\\left(-\\frac{(y_i - f(x_i; \\theta))^2}{2\\sigma_i^2}\\right) $$\n",
    "\n",
    "\n",
    "حال اگر $\\sigma_i = \\sigma$ باشند، یعنی مقدار خطا ارتباطی به مقدار x نداشته باشد خواهیم داشت:\n",
    "\n",
    "$$ \\mathcal{L}(\\theta) = \\frac{1}{\\sqrt{2\\pi\\sigma^2}^N} \\exp\\sum_{i=1}^N\\left(-\\frac{(y_i - f(x_i; \\theta))^2}{2\\sigma^2}\\right) $$\n",
    "\n",
    "در اینصورت به سادگی می‌توان نشان داد که \n",
    "\n",
    "$$ - \\ln \\mathcal{L}(\\theta) =a_0 + b_0 \\times \\chi^2$$\n",
    "\n",
    "بنابر این در واقع کمینه کردن مقدار $\\chi^2$ هم عرض بیشینه کردن مقدار تابع درست نمایی بوده است.\n",
    "\n",
    "این موضوع نشان میدهد که استفاده از $\\chi^2$ برای برازش می‌تواند به راحتی از طریق مفهوم $ \\mathcal{L}(\\theta)$ گسترش یابد."
   ]
  },
  {
   "cell_type": "markdown",
   "metadata": {},
   "source": [
    "## استفاده از ابزارهای موجود برای برازش\n",
    "\n",
    "در این درس تا به حال مفاهیم مربوط به برازش مرور شد، بدیهی است برای موارد پیچیده نیازمند بهینه سازی هایی هستیم تا محاسبات با دقت صورت گیرد. این موضوع شامل یافتن نقطه ی کمینه با دقت بسیار بالاتر و محاسبه ی مشتقات نیز می‌باشد.\n",
    "\n",
    "در دسترس ترین کد برای انجام برازش، کتابخانه‌ی `scipy.optimize` است. در این کتابخانه تابع `scipy.optimize.curve_fit`\n",
    "کار برازش و محاسبه ی ماتریس کوواریانس را انجام می‌دهد.\n",
    "برای جزئیات بیشتر اطلاعات مربوطه را در [اینجا](https://docs.scipy.org/doc/scipy/reference/generated/scipy.optimize.curve_fit.html) مطالعه کنید"
   ]
  },
  {
   "cell_type": "markdown",
   "metadata": {},
   "source": [
    "## تکلیف\n",
    "````{card} به دست آوردن توزیع $\\chi^2$\n",
    "\n",
    "تکلیف برازش\n",
    "^^^\n",
    "\n",
    "## هدف\n",
    "در این تکلیف، شما با استفاده از تولید اعداد تصادفی و برازش یک تابع گاوسی (نرمال) بر روی داده‌ها، توزیع کای-دو (χ²) را بررسی خواهید کرد. هدف این است که ببینید توزیع مقادیر کمینه‌ی χ² چه شکلی دارد و چگونه به توزیع کای-دو مرتبط می‌شود.\n",
    "\n",
    "## مراحل انجام کار\n",
    "\n",
    "### ۱. تولید داده‌های تصادفی\n",
    "1. یک تابع گاوسی با پارامترهای زیر تعریف کنید:\n",
    "   - میانگین ($ \\mu $): ۰\n",
    "   - انحراف معیار ($ \\sigma $): ۱\n",
    "   - دامنه $ x $: از -۵ تا ۵ با گام‌های ۰٫۱\n",
    "\n",
    "2. برای هر نقطه $ x $، مقدار تابع گاوسی را محاسبه کنید و به آن نویز گاوسی با انحراف معیار ۰٫۱ اضافه کنید. این داده‌های نویزی را به عنوان داده‌های آزمایشی در نظر بگیرید.\n",
    "\n",
    "### ۲. برازش تابع گاوسی\n",
    "1. تابع گاوسی زیر را برای برازش روی داده‌ها تعریف کنید:\n",
    "\n",
    "   $$\n",
    "   f(x; \\mu, \\sigma) = \\frac{1}{\\sigma \\sqrt{2\\pi}} \\exp\\left(-\\frac{(x - \\mu)^2}{2\\sigma^2}\\right)\n",
    "   $$\n",
    "\n",
    "2. با استفاده از روش کمترین مربعات (Least Squares)، پارامترهای $ \\mu $ و $ \\sigma $ را به گونه‌ای پیدا کنید که تابع گاوسی بهترین برازش را به داده‌های نویزی داشته باشد. مقدار χ² را برای این برازش محاسبه کنید.\n",
    "\n",
    "### ۳. تکرار آزمایش\n",
    "1. آزمایش بالا را ۱۰۰۰ بار تکرار کنید. در هر تکرار:\n",
    "   - داده‌های نویزی جدید تولید کنید.\n",
    "   - تابع گاوسی را برازش کنید.\n",
    "   - مقدار χ² را محاسبه و ذخیره کنید.\n",
    "   - ماتریس `covariance` را نیز در هر مرحله ذخیره کنید.\n",
    "\n",
    "### ۴. تحلیل نتایج\n",
    "1. هیستوگرام مقادیر χ² را رسم کنید.\n",
    "2. توزیع کای-دو نظری با درجات آزادی مناسب را روی هیستوگرام رسم کنید و با توزیع تجربی مقایسه کنید.\n",
    "3. میانگین و واریانس مقادیر χ² را محاسبه و با مقادیر نظری توزیع کای-دو مقایسه کنید.\n",
    "4. توزیع مقادیر موجود در ماتریس `covariance` را رسم کنید. چه نتیجه ای می‌توانید از آن بگیرید؟\n",
    "\n",
    "## سوالات\n",
    "\n",
    "1. **هیستوگرام χ²:**  \n",
    "   هیستوگرام مقادیر χ² را رسم کنید. آیا شکل آن شبیه به توزیع کای-دو است؟ چرا؟\n",
    "\n",
    "2. **درجات آزادی:**  \n",
    "   با توجه به تعداد پارامترهای برازش‌شده ($ \\mu $ و $ \\sigma $)، درجات آزادی توزیع کای-دو را محاسبه کنید. آیا این درجات آزادی با شکل هیستوگرام مطابقت دارد؟\n",
    "\n",
    "3. **میانگین و واریانس:**  \n",
    "   میانگین و واریانس مقادیر χ² را محاسبه کنید. آیا این مقادیر با مقادیر نظری توزیع کای-دو ($ \\text{average} = k $ و $ \\text{variance} = 2k $) مطابقت دارند؟\n",
    "\n",
    "4. **تأثیر نویز:**  \n",
    "   اگر انحراف معیار نویز را تغییر دهید (مثلاً به ۰٫۲ افزایش دهید)، چه تغییری در توزیع χ² مشاهده می‌کنید؟ آیا این تغییر با تئوری همخوانی دارد؟\n",
    "\n",
    "5. **برازش توزیع کای-دو:**  \n",
    "   با استفاده از روش‌های برازش، توزیع کای-دو نظری را به هیستوگرام مقادیر χ² برازش دهید. پارامترهای برازش‌شده چقدر با مقادیر نظری تفاوت دارند؟\n",
    "\n",
    "+++\n",
    "## نکات\n",
    "- از کتابخانه‌های علمی مانند `numpy`، `scipy` و `matplotlib` در پایتون استفاده کنید.\n",
    "- برای برازش تابع گاوسی می‌توانید از تابع `curve_fit` در `scipy.optimize` استفاده کنید.\n",
    "- برای رسم توزیع کای-دو نظری از تابع `chi2.pdf` در `scipy.stats` استفاده کنید.\n",
    "\n",
    "````"
   ]
  },
  {
   "cell_type": "markdown",
   "metadata": {},
   "source": []
  }
 ],
 "metadata": {
  "kernelspec": {
   "display_name": "Python 3",
   "language": "python",
   "name": "python3"
  },
  "language_info": {
   "codemirror_mode": {
    "name": "ipython",
    "version": 3
   },
   "file_extension": ".py",
   "mimetype": "text/x-python",
   "name": "python",
   "nbconvert_exporter": "python",
   "pygments_lexer": "ipython3",
   "version": "3.10.12"
  }
 },
 "nbformat": 4,
 "nbformat_minor": 2
}
