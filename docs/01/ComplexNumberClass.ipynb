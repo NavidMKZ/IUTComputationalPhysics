{
 "cells": [
  {
   "cell_type": "markdown",
   "metadata": {},
   "source": [
    "# نمایش داده‌ها"
   ]
  },
  {
   "cell_type": "markdown",
   "metadata": {},
   "source": [
    "در این بخش، با مفاهیم مربوط به فرمت‌های داده، اعداد مختلط و نحوه‌ی استفاده از کلاس‌ها در پایتون آشنا می‌شویم. همچنین یک کلاس برای کار با اعداد مختلط ایجاد می‌کنیم و قابلیت‌های آن را بررسی خواهیم کرد.\n",
    "\n",
    "---\n",
    "\n",
    "## فرمت‌های اولیه‌ی داده: اعداد صحیح و اعشاری\n",
    "\n",
    "در برنامه‌نویسی، داده‌ها در فرمت‌های مختلفی ذخیره می‌شوند. دو نوع رایج از این فرمت‌ها، اعداد صحیح (`int`) و اعداد اعشاری (`float`) هستند:\n",
    "\n",
    "\n",
    "### اعداد صحیح (`int`)\n",
    "\n",
    "اعداد صحیح (`int`) در پایتون، اعدادی هستند که بخش اعشاری ندارند و می‌توانند مثبت، منفی یا صفر باشند. برای مثال:\n"
   ]
  },
  {
   "cell_type": "code",
   "execution_count": 1,
   "metadata": {},
   "outputs": [],
   "source": [
    "a = 10    # عدد صحیح مثبت\n",
    "b = -5    # عدد صحیح منفی\n",
    "c = 0     # صفر"
   ]
  },
  {
   "cell_type": "markdown",
   "metadata": {},
   "source": [
    "این اعداد در حافظه به صورت باینری (پایه‌ی ۲) ذخیره می‌شوند. برای مثال، عدد <code>10</code> در مبنای ۲ به صورت <code>1010</code> نمایش داده می‌شود.\n",
    "\n",
    "---\n",
    "\n",
    "#### تابع <code>bin</code>: نمایش باینری اعداد\n",
    "\n",
    "تابع <code>bin</code> در پایتون، نمایش باینری یک عدد صحیح را به صورت یک رشته برمی‌گرداند. این تابع برای بررسی نحوه‌ی ذخیره‌سازی اعداد در حافظه بسیار مفید است.\n",
    "\n",
    "مثال:"
   ]
  },
  {
   "cell_type": "code",
   "execution_count": 2,
   "metadata": {},
   "outputs": [
    {
     "name": "stdout",
     "output_type": "stream",
     "text": [
      "0b1010\n"
     ]
    }
   ],
   "source": [
    "num = 10\n",
    "binary = bin(num)\n",
    "print(binary)  # خروجی: '0b1010'"
   ]
  },
  {
   "cell_type": "markdown",
   "metadata": {},
   "source": [
    "<ul><li><p>در خروجی، پیشوند <code>0b</code> نشان‌دهنده‌ی این است که عدد به صورت باینری نمایش داده شده است.</p></li><li><p>عدد <code>10</code> در مبنای ۲ برابر با <code>1010</code> است.</p></li></ul>\n",
    "\n",
    "####  اپراتورهای بیتی (Bitwise Operators)\n",
    "اپراتورهای بیتی، عملیات‌هایی هستند که مستقیماً روی بیت‌های اعداد انجام می‌شوند. این اپراتورها در کار با داده‌های سطح پایین، بهینه‌سازی کدها و برخی الگوریتم‌ها (مانند رمزنگاری) کاربرد دارند.\n",
    "\n",
    "**انواع اپراتورهای بیتی:**\n",
    "\n",
    "- **AND (<code>&amp;</code>)**\n",
    "\n",
    "هر دو بیت باید 1 باشند تا نتیجه 1 شود."
   ]
  },
  {
   "cell_type": "code",
   "execution_count": 3,
   "metadata": {},
   "outputs": [
    {
     "name": "stdout",
     "output_type": "stream",
     "text": [
      "0\n"
     ]
    }
   ],
   "source": [
    "a = 10  # 1010\n",
    "b = 4   # 0100\n",
    "result = a & b\n",
    "print(result)  # خروجی: 0 (0000)"
   ]
  },
  {
   "cell_type": "markdown",
   "metadata": {},
   "source": [
    "- **OR (<code>|</code>)**\n",
    "\n",
    "اگر حداقل یکی از بیت‌ها 1 باشد، نتیجه 1 می‌شود."
   ]
  },
  {
   "cell_type": "code",
   "execution_count": 6,
   "metadata": {},
   "outputs": [
    {
     "name": "stdout",
     "output_type": "stream",
     "text": [
      "14\n"
     ]
    }
   ],
   "source": [
    "a = 10  # 1010\n",
    "b = 4   # 0100\n",
    "result = a | b\n",
    "print(result)  # خروجی: 14 (1110)"
   ]
  },
  {
   "cell_type": "markdown",
   "metadata": {},
   "source": [
    "- <strong>XOR (<code>^</code>)</strong>\n",
    "\n",
    "اگر دو بیت متفاوت باشند، نتیجه 1 می‌شود."
   ]
  },
  {
   "cell_type": "code",
   "execution_count": 12,
   "metadata": {},
   "outputs": [
    {
     "name": "stdout",
     "output_type": "stream",
     "text": [
      "12 0b1100\n"
     ]
    }
   ],
   "source": [
    "a = 10  # 1010\n",
    "b = 6   # 0110\n",
    "result = a ^ b\n",
    "print(result, bin(result) )  # خروجی: 12 (1100)"
   ]
  },
  {
   "cell_type": "markdown",
   "metadata": {},
   "source": [
    "- <strong>شیفت به چپ (<code>&lt;&lt;</code>)</strong>:\n",
    "\n",
    "<p>بیت‌ها را به تعداد مشخصی به چپ منتقل می‌کند و بیت‌های جدید را با صفر پر می‌کند.</p>"
   ]
  },
  {
   "cell_type": "code",
   "execution_count": 13,
   "metadata": {},
   "outputs": [
    {
     "name": "stdout",
     "output_type": "stream",
     "text": [
      "40\n"
     ]
    }
   ],
   "source": [
    "a = 10  # 1010\n",
    "result = a << 2\n",
    "print(result)  # خروجی: 40 (101000)"
   ]
  },
  {
   "cell_type": "markdown",
   "metadata": {},
   "source": [
    "- شیفت به راست (<code>&gt;&gt;</code>)\n",
    "\n",
    "<p>بیت‌ها را به تعداد مشخصی به راست منتقل می‌کند و بیت‌های جدید را با صفر پر می‌کند.</p>"
   ]
  },
  {
   "cell_type": "code",
   "execution_count": 14,
   "metadata": {},
   "outputs": [
    {
     "name": "stdout",
     "output_type": "stream",
     "text": [
      "2\n"
     ]
    }
   ],
   "source": [
    "a = 10  # 1010\n",
    "result = a >> 2\n",
    "print(result)  # خروجی: 2 (0010)"
   ]
  },
  {
   "cell_type": "markdown",
   "metadata": {},
   "source": [
    "#### مثالهای کاربردی\n",
    "\n",
    "- مثال ۱: بررسی زوج یا فرد بودن عدد با استفاده از اپراتور AND\n",
    "\n",
    "اگر آخرین بیت عدد <code>1</code> باشد، عدد فرد است."
   ]
  },
  {
   "cell_type": "code",
   "execution_count": 15,
   "metadata": {},
   "outputs": [
    {
     "name": "stdout",
     "output_type": "stream",
     "text": [
      "عدد فرد است\n"
     ]
    }
   ],
   "source": [
    "num = 7\n",
    "if num & 1:\n",
    "    print('عدد فرد است')  # خروجی: عدد فرد است\n",
    "else:\n",
    "    print('عدد زوج است')"
   ]
  },
  {
   "cell_type": "markdown",
   "metadata": {},
   "source": [
    "- مثال ۲: استفاده از شیفت به چپ برای ضرب در ۲"
   ]
  },
  {
   "cell_type": "code",
   "execution_count": 16,
   "metadata": {},
   "outputs": [
    {
     "name": "stdout",
     "output_type": "stream",
     "text": [
      "10\n"
     ]
    }
   ],
   "source": [
    "num = 5\n",
    "result = num << 1\n",
    "print(result)  # خروجی: 10"
   ]
  },
  {
   "cell_type": "markdown",
   "metadata": {},
   "source": [
    "###  اعداد اعشاری (`float`):\n",
    "\n",
    "این اعداد دارای بخش اعشاری هستند و به دلیل محدودیت‌های حافظه، با دقت محدود در کامپیوتر نمایش داده می‌شوند. مثلاً `3.14`، `-0.001` و `2.0` اعداد اعشاری هستند.\n",
    "\n",
    "برای درک نحوه‌ی ذخیره سازی این اعداد در حافظه، می‌توانید به \n",
    "[این سایت](https://www.h-schmidt.net/FloatConverter/IEEE754.html)\n",
    "مراجعه کنید.\n",
    "\n",
    "همچنین شناختن توابع زیر در پایتون می‌تواند مفید باشد:\n",
    "\n",
    "- تبدیل عدد <code>float</code> به عدد کسری با [<code>float.as_integer_ratio</code>](https://docs.python.org/3/library/stdtypes.html#float.as_integer_ratio)\n",
    "\n",
    "- [توضیحات بیشتر در مورد اعداد اعشاری](https://docs.python.org/3/tutorial/floatingpoint.html)\n",
    "\n",
    "```{note}\n",
    "قالبهای دیگری هم در پایتون برای نمایش اعداد غیر صحیح وجود دارد:\n",
    "\n",
    "- اعداد کسری : [<code>fraction</code>](https://www.geeksforgeeks.org/fraction-module-python/)\n",
    "\n",
    "- اعداد [<code>decimal</code>](https://www.askpython.com/python/examples/high-precision-numerical-calculations) \n",
    "```\n",
    "\n",
    "---\n",
    "\n",
    "## ساخت قالب جدید داده‌ها\n",
    "\n",
    "معمولا داده‌هایی که ما نیاز به توصیف آن‌ها داریم از کنار هم قرار گرفتن داده‌هایی از جنسهای اولیه تشکیل میشود. برای این کار، خودمان باید قالب جدیدی را با کمک `class` پیاده سازی کنیم.\n",
    "\n",
    "اعداد مختلط را به عنوان یک نمونه‌ی ساده در اینجا بررسی می‌کنیم.\n",
    "\n",
    "\n",
    "اعداد مختلط (Complex Numbers) اعدادی هستند که از دو بخش تشکیل شده‌اند: یک بخش حقیقی (Real) و یک بخش موهومی (Imaginary). این اعداد به شکل `a + bi` نمایش داده می‌شوند، که در آن `a` بخش حقیقی و `b` بخش موهومی است. برای مثال، `3 + 4i` یک عدد مختلط است.\n",
    "\n",
    "در پایتون، می‌توانیم از کلاس‌ها برای مدل‌سازی اعداد مختلط استفاده کنیم. کلاس‌ها به ما اجازه می‌دهند تا داده‌ها و رفتارهای مرتبط با آن‌ها را در یک ساختار واحد سازماندهی کنیم.\n",
    "\n",
    "---\n",
    "\n",
    "###  ایجاد کلاس `ComplexNumber`\n",
    "\n",
    "در این بخش، یک کلاس به نام `ComplexNumber` ایجاد می‌کنیم که امکان کار با اعداد مختلط را فراهم می‌کند. این کلاس شامل متدهایی برای نمایش، محاسبه‌ی اندازه و انجام عملیات ضرب روی اعداد مختلط است.\n",
    "\n",
    "#### کد کلاس `ComplexNumber`"
   ]
  },
  {
   "cell_type": "code",
   "execution_count": 19,
   "metadata": {
    "id": "wEM0WTEYlGKa"
   },
   "outputs": [],
   "source": [
    "import math\n",
    "class ComplexNumber:\n",
    "  def __init__(self , r , i ):\n",
    "    if type(i) is str:\n",
    "      print('i shoudl be a number')\n",
    "    else:\n",
    "      self.I = i\n",
    "      self.R = r\n",
    "\n",
    "  def Size(self):\n",
    "    ret = math.sqrt(self.I*self.I + self.R*self.R)\n",
    "    return ret\n",
    "\n",
    "  def __mul__(self , other ):\n",
    "    ret = ComplexNumber( self.R*other.R - self.I * other.I , self.R*other.I+self.I*other.R)\n",
    "    return ret\n",
    "\n",
    "  def __repr__(self):\n",
    "    return str(self)\n",
    "\n",
    "  def __str__(self):\n",
    "    ret = f'{self.R}{\"+\" if self.I>0 else \"-\"}i{abs(self.I)}'\n",
    "    return ret"
   ]
  },
  {
   "cell_type": "markdown",
   "metadata": {
    "id": "h5xw-jY9xjnD"
   },
   "source": [
    "#### توضیحات متدهای کلاس\n",
    "\n",
    "#####  <strong>متد <code>__init__</code></strong>:\n",
    "- <p>این متد سازنده‌ی کلاس است و برای مقداردهی اولیه به بخش‌های حقیقی و موهومی عدد مختلط استفاده می‌شود.</p>\n",
    "- <p>اگر بخش موهومی یک رشته (<code>str</code>) باشد، پیام خطا نمایش داده می‌شود.</p>\n",
    "\n",
    "##### <strong>متد <code>Size</code></strong>\n",
    "<p>این متد اندازه‌ی عدد مختلط را محاسبه می‌کند. اندازه‌ی یک عدد مختلط به صورت $\\sqrt(a^2 + b^2)$ محاسبه می‌شود.</p>\n",
    "\n",
    "\n",
    "##### متد <code>__mul__</code>\n",
    "این متد امکان ضرب دو عدد مختلط را فراهم می‌کند. ضرب دو عدد مختلط به صورت زیر انجام می‌شود:\n",
    "\n",
    "$$(a+bi)\\times(c+di) = (ac-bd)+(ad+bc)i$$\n",
    "\n",
    "##### <strong>متد <code>__repr__</code></strong>\n",
    "این متد نمایش رسمی عدد مختلط را برمی‌گرداند. در اینجا از متد <code>__str__</code> استفاده شده است.\n",
    "\n",
    "#####  <strong>متد <code>__str__</code></strong>:\n",
    "این متد نمایش زیبای عدد مختلط را به شکل <code>a + bi</code> یا <code>a - bi</code> برمی‌گرداند.\n",
    "\n",
    "\n",
    "--- \n",
    "\n",
    "#### مثالها"
   ]
  },
  {
   "cell_type": "code",
   "execution_count": 20,
   "metadata": {},
   "outputs": [
    {
     "name": "stdout",
     "output_type": "stream",
     "text": [
      "3+i4\n",
      "1-i2\n",
      "5.0\n",
      "11-i2\n"
     ]
    }
   ],
   "source": [
    "# ایجاد دو عدد مختلط\n",
    "num1 = ComplexNumber(3, 4)\n",
    "num2 = ComplexNumber(1, -2)\n",
    "\n",
    "# نمایش اعداد\n",
    "print(num1)  # خروجی: 3+i4\n",
    "print(num2)  # خروجی: 1-i2\n",
    "\n",
    "# محاسبه اندازه\n",
    "print(num1.Size())  # خروجی: 5.0\n",
    "\n",
    "# ضرب دو عدد مختلط\n",
    "result = num1 * num2\n",
    "print(result)  # خروجی: 11-i2"
   ]
  },
  {
   "cell_type": "markdown",
   "metadata": {},
   "source": [
    "## سوالات\n",
    "\n",
    "- کلاس نوشته شده برای اعداد مختلط را بر اساس مختصات قطبی بازنویسی کنید\n",
    "\n",
    "- می‌دانیم در الکترواستاتیک میدان الکتریکی را با دانستن پتانسیل الکتریکی در هر نقطه به دست آورد. یک کلاس به نام\n",
    "<code>ELectricalField</code>\n",
    "بنوسید که با گرفتن تابع پتانسیل الکتریکی، میدان الکتریکی و بار الکتریکی در هر نقطه را بتواند محاسبه کند."
   ]
  },
  {
   "cell_type": "markdown",
   "metadata": {},
   "source": [
    "```{note}\n",
    "دقت کنید که اعداد مختلط با تمام جزئیات در پایتون پیاده سازی شده اند و برای استفاده از آن‌ها نیازی به طراحی یک کلاس جدید نداشتیم. برای آشنایی با اعدد مختلط در پایتون، به\n",
    "[این صفحه](https://www.geeksforgeeks.org/complex-numbers-in-python-set-1-introduction/)\n",
    "مراجعه کنید\n",
    "```"
   ]
  }
 ],
 "metadata": {
  "colab": {
   "provenance": []
  },
  "kernelspec": {
   "display_name": "Python 3 (ipykernel)",
   "language": "python",
   "name": "python3"
  },
  "language_info": {
   "codemirror_mode": {
    "name": "ipython",
    "version": 3
   },
   "file_extension": ".py",
   "mimetype": "text/x-python",
   "name": "python",
   "nbconvert_exporter": "python",
   "pygments_lexer": "ipython3",
   "version": "3.8.10"
  }
 },
 "nbformat": 4,
 "nbformat_minor": 1
}
